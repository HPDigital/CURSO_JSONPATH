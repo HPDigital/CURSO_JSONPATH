{
 "cells": [
  {
   "cell_type": "markdown",
   "id": "17261628",
   "metadata": {},
   "source": [
    "# PRACTICA JSONPATH\n",
    "\n",
    "Direccion de youtube: https://youtu.be/ni1UrmaXQkM \n",
    "\n",
    "Datos: Ver archivos de datos: \"DATOS_PRUEBA_JSON_YOUTUBE.txt\"\n",
    "\n",
    "PAGINA INTERESANTE 1, JSON PATH EVALUATOR: https://jsonpath.com/\n",
    "\n",
    "PAGINA INTERESANTE 2, JSON PATH FINDER: https://jsonpathfinder.com/\n",
    "\n",
    "PAGINA INTERESANTE 3, Sintaxis y ejemplos https://support.smartbear.com/alertsite/docs/monitors/api/endpoint/jsonpath.html"
   ]
  },
  {
   "cell_type": "code",
   "execution_count": 28,
   "id": "eba8d85c",
   "metadata": {},
   "outputs": [],
   "source": [
    "import json\n",
    "import requests\n",
    "import jsonpath_ng\n",
    "from jsonpath_ng import jsonpath\n",
    "#from jsonpath_ng.ext import parse"
   ]
  },
  {
   "cell_type": "code",
   "execution_count": null,
   "id": "9124c48e",
   "metadata": {},
   "outputs": [],
   "source": []
  },
  {
   "cell_type": "code",
   "execution_count": 2,
   "id": "906a80c4",
   "metadata": {},
   "outputs": [
    {
     "data": {
      "text/plain": [
       "<function TextIOWrapper.close()>"
      ]
     },
     "execution_count": 2,
     "metadata": {},
     "output_type": "execute_result"
    }
   ],
   "source": [
    "json_datos=r\"C:\\Users\\HP\\Desktop\\DIPLOMADO MACHINE LEARNING\\Modulo 1\\SESION 3\\DATOS_PRUEBA_JSON_YOUTUBE.txt\"\n",
    "f = open(json_datos)\n",
    "datos =json.load(f)\n",
    "f.close\n"
   ]
  },
  {
   "cell_type": "markdown",
   "id": "caa83030",
   "metadata": {},
   "source": [
    "## JSONPATH TIPOS DE NOTACION O ESCRITURA"
   ]
  },
  {
   "cell_type": "code",
   "execution_count": 3,
   "id": "325c0594",
   "metadata": {},
   "outputs": [
    {
     "name": "stdout",
     "output_type": "stream",
     "text": [
      "highway\n",
      "highway\n"
     ]
    }
   ],
   "source": [
    "\n",
    "patron = parse('$.Data[0].class')\n",
    "match=patron.find(datos)\n",
    "print(match[0].value)\n",
    "\n",
    "\n",
    "patron = parse('$[Data][0][class]')\n",
    "match=patron.find(datos)\n",
    "print(match[0].value)\n",
    "\n"
   ]
  },
  {
   "cell_type": "code",
   "execution_count": 4,
   "id": "f4cbfcea",
   "metadata": {},
   "outputs": [
    {
     "name": "stdout",
     "output_type": "stream",
     "text": [
      "highway\n"
     ]
    }
   ],
   "source": [
    "# SELECCION POR INDEX [2] escoge del tercer diccionario el valor que corresponde a calss\n",
    "patron = parse('$.Data[2].class')\n",
    "match=patron.find(datos)\n",
    "print(match[0].value)"
   ]
  },
  {
   "cell_type": "markdown",
   "id": "3a64653a",
   "metadata": {},
   "source": [
    "### JSONPATH OPERATORES"
   ]
  },
  {
   "cell_type": "code",
   "execution_count": 5,
   "id": "c38e52a2",
   "metadata": {
    "scrolled": true
   },
   "outputs": [],
   "source": [
    " \"\"\"\n",
    "($) --> Significa la raiz y es el punto de origen de toda estructura Json. Dede primeros vuelve todo lo que se encuentra \n",
    "entre losprimero {}\n",
    " \"\"\"   \n",
    "patron = parse('$')\n",
    "match=patron.find(datos)\n",
    "#print(match[0].value)-> Devuelve todo el archivo Json\n",
    "#print(match) # -> Devuelve todo el archivo Json"
   ]
  },
  {
   "cell_type": "code",
   "execution_count": 6,
   "id": "99cd94be",
   "metadata": {},
   "outputs": [
    {
     "name": "stdout",
     "output_type": "stream",
     "text": [
      "{'place_id': 60033371, 'licence': 'Data Â© OpenStreetMap contributors, ODbL 1.0. https://osm.org/copyright', 'powered_by': 'Map Maker: https://maps.co', 'osm_type': 'node', 'osm_id': 5362118921, 'boundingbox': ['18.6398082', '18.6399082', '-91.5413272', '-91.5412272'], 'lat': '18.6398582', 'lon': '-91.5412772', 'display_name': 'Laguna de TÃ©rminos, Carmen, Campeche, Mexico', 'class': 'tourism', 'type': 'attraction', 'importance': 0.30100000000000005}\n"
     ]
    }
   ],
   "source": [
    "\"\"\" \n",
    "(@) -> Sirve para especificar cliterios de cumplimineto, como filtros por ej:donde se cumpla....\n",
    "\"\"\"\n",
    "patron = parse('$.Data[?(@.class==\"tourism\")]')\n",
    "match=patron.find(datos)\n",
    "print(match[0].value)"
   ]
  },
  {
   "cell_type": "code",
   "execution_count": 7,
   "id": "151e278b",
   "metadata": {},
   "outputs": [
    {
     "name": "stdout",
     "output_type": "stream",
     "text": [
      "[DatumInContext(value={'place_id': 132180783, 'licence': 'Data Â© OpenStreetMap contributors, ODbL 1.0. https://osm.org/copyright', 'powered_by': 'Map Maker: https://maps.co', 'osm_type': 'way', 'osm_id': 128914583, 'boundingbox': ['25.650497', '25.6508742', '-100.3111142', '-100.3092118'], 'lat': '25.6505049', 'lon': '-100.3100514', 'display_name': 'Laguna de TÃ©rminos, Arturo B de la Garza, Monterrey, Nuevo LeÃ³n, 64700, Mexico', 'class': 'highway', 'type': 'residential', 'importance': 0.4}, path=Index(index=0), context=DatumInContext(value=[{'place_id': 132180783, 'licence': 'Data Â© OpenStreetMap contributors, ODbL 1.0. https://osm.org/copyright', 'powered_by': 'Map Maker: https://maps.co', 'osm_type': 'way', 'osm_id': 128914583, 'boundingbox': ['25.650497', '25.6508742', '-100.3111142', '-100.3092118'], 'lat': '25.6505049', 'lon': '-100.3100514', 'display_name': 'Laguna de TÃ©rminos, Arturo B de la Garza, Monterrey, Nuevo LeÃ³n, 64700, Mexico', 'class': 'highway', 'type': 'residential', 'importance': 0.4}, {'place_id': 257940027, 'licence': 'Data Â© OpenStreetMap contributors, ODbL 1.0. https://osm.org/copyright', 'powered_by': 'Map Maker: https://maps.co', 'osm_type': 'way', 'osm_id': 800770558, 'boundingbox': ['25.6506844', '25.650711', '-100.3112724', '-100.3111142'], 'lat': '25.6506844', 'lon': '-100.3111142', 'display_name': 'Laguna de TÃ©rminos, Monterrey, Nuevo LeÃ³n, 64750, Mexico', 'class': 'highway', 'type': 'residential', 'importance': 0.4}, {'place_id': 131383095, 'licence': 'Data Â© OpenStreetMap contributors, ODbL 1.0. https://osm.org/copyright', 'powered_by': 'Map Maker: https://maps.co', 'osm_type': 'way', 'osm_id': 124126856, 'boundingbox': ['25.7224653', '25.7248376', '-100.2466767', '-100.2445865'], 'lat': '25.7234336', 'lon': '-100.2455659', 'display_name': 'Laguna de TÃ©rminos, Costa del Sol 1Â° sec, San NicolÃ¡s de los Garza, Nuevo LeÃ³n, 66490, Mexico', 'class': 'highway', 'type': 'residential', 'importance': 0.4}, {'place_id': 246750190, 'licence': 'Data Â© OpenStreetMap contributors, ODbL 1.0. https://osm.org/copyright', 'powered_by': 'Map Maker: https://maps.co', 'osm_type': 'way', 'osm_id': 733371831, 'boundingbox': ['21.16671', '21.1670877', '-100.9256955', '-100.9256785'], 'lat': '21.16671', 'lon': '-100.9256955', 'display_name': 'Laguna de TÃ©rminos, Guanajuato, Dolores Hidalgo, Dolores Hidalgo Cuna de la Independencia Nacional, Guanajuato, 37803, Mexico', 'class': 'highway', 'type': 'residential', 'importance': 0.4}, {'place_id': 239281451, 'licence': 'Data Â© OpenStreetMap contributors, ODbL 1.0. https://osm.org/copyright', 'powered_by': 'Map Maker: https://maps.co', 'osm_type': 'way', 'osm_id': 689197745, 'boundingbox': ['21.1625369', '21.1645179', '-100.922902', '-100.918707'], 'lat': '21.1636984', 'lon': '-100.920834', 'display_name': 'Laguna de TÃ©rminos, Las Arboledas, Dolores Hidalgo, Dolores Hidalgo Cuna de la Independencia Nacional, Guanajuato, 37803, Mexico', 'class': 'highway', 'type': 'residential', 'importance': 0.4}, {'place_id': 247973946, 'licence': 'Data Â© OpenStreetMap contributors, ODbL 1.0. https://osm.org/copyright', 'powered_by': 'Map Maker: https://maps.co', 'osm_type': 'way', 'osm_id': 733371830, 'boundingbox': ['21.165815', '21.16671', '-100.925699', '-100.9256955'], 'lat': '21.16671', 'lon': '-100.9256955', 'display_name': 'Laguna de TÃ©rminos, Guanajuato, Dolores Hidalgo, Dolores Hidalgo Cuna de la Independencia Nacional, Guanajuato, 37803, Mexico', 'class': 'highway', 'type': 'track', 'importance': 0.4}, {'place_id': 203042553, 'licence': 'Data Â© OpenStreetMap contributors, ODbL 1.0. https://osm.org/copyright', 'powered_by': 'Map Maker: https://maps.co', 'osm_type': 'way', 'osm_id': 455839997, 'boundingbox': ['19.4419543', '19.4447682', '-99.1917602', '-99.171099'], 'lat': '19.4434105', 'lon': '-99.1819631', 'display_name': 'Laguna de TÃ©rminos, Colonia Lago Sur, Miguel Hidalgo, Mexico City, 11320, Mexico', 'class': 'highway', 'type': 'cycleway', 'importance': 0.375}, {'place_id': 60033371, 'licence': 'Data Â© OpenStreetMap contributors, ODbL 1.0. https://osm.org/copyright', 'powered_by': 'Map Maker: https://maps.co', 'osm_type': 'node', 'osm_id': 5362118921, 'boundingbox': ['18.6398082', '18.6399082', '-91.5413272', '-91.5412272'], 'lat': '18.6398582', 'lon': '-91.5412772', 'display_name': 'Laguna de TÃ©rminos, Carmen, Campeche, Mexico', 'class': 'tourism', 'type': 'attraction', 'importance': 0.30100000000000005}, {'place_id': 174184567, 'licence': 'Data Â© OpenStreetMap contributors, ODbL 1.0. https://osm.org/copyright', 'powered_by': 'Map Maker: https://maps.co', 'osm_type': 'way', 'osm_id': 298353851, 'boundingbox': ['24.0615094', '24.0616178', '-104.6320899', '-104.6320181'], 'lat': '24.0615666', 'lon': '-104.632058', 'display_name': 'Laguna de Terminos, Los Eucaliptos, Durango, Municipio de Durango, Durango, 34166, Mexico', 'class': 'highway', 'type': 'secondary', 'importance': 0.3}, {'place_id': 174351147, 'licence': 'Data Â© OpenStreetMap contributors, ODbL 1.0. https://osm.org/copyright', 'powered_by': 'Map Maker: https://maps.co', 'osm_type': 'way', 'osm_id': 298353844, 'boundingbox': ['24.0574567', '24.0613245', '-104.6318733', '-104.6296529'], 'lat': '24.0594784', 'lon': '-104.6308105', 'display_name': 'Laguna de Terminos, Privadas San Ignacio, Durango, Municipio de Durango, Durango, 34166, Mexico', 'class': 'highway', 'type': 'secondary', 'importance': 0.3}], path=Fields('Data'), context=DatumInContext(value={'Data': [{'place_id': 132180783, 'licence': 'Data Â© OpenStreetMap contributors, ODbL 1.0. https://osm.org/copyright', 'powered_by': 'Map Maker: https://maps.co', 'osm_type': 'way', 'osm_id': 128914583, 'boundingbox': ['25.650497', '25.6508742', '-100.3111142', '-100.3092118'], 'lat': '25.6505049', 'lon': '-100.3100514', 'display_name': 'Laguna de TÃ©rminos, Arturo B de la Garza, Monterrey, Nuevo LeÃ³n, 64700, Mexico', 'class': 'highway', 'type': 'residential', 'importance': 0.4}, {'place_id': 257940027, 'licence': 'Data Â© OpenStreetMap contributors, ODbL 1.0. https://osm.org/copyright', 'powered_by': 'Map Maker: https://maps.co', 'osm_type': 'way', 'osm_id': 800770558, 'boundingbox': ['25.6506844', '25.650711', '-100.3112724', '-100.3111142'], 'lat': '25.6506844', 'lon': '-100.3111142', 'display_name': 'Laguna de TÃ©rminos, Monterrey, Nuevo LeÃ³n, 64750, Mexico', 'class': 'highway', 'type': 'residential', 'importance': 0.4}, {'place_id': 131383095, 'licence': 'Data Â© OpenStreetMap contributors, ODbL 1.0. https://osm.org/copyright', 'powered_by': 'Map Maker: https://maps.co', 'osm_type': 'way', 'osm_id': 124126856, 'boundingbox': ['25.7224653', '25.7248376', '-100.2466767', '-100.2445865'], 'lat': '25.7234336', 'lon': '-100.2455659', 'display_name': 'Laguna de TÃ©rminos, Costa del Sol 1Â° sec, San NicolÃ¡s de los Garza, Nuevo LeÃ³n, 66490, Mexico', 'class': 'highway', 'type': 'residential', 'importance': 0.4}, {'place_id': 246750190, 'licence': 'Data Â© OpenStreetMap contributors, ODbL 1.0. https://osm.org/copyright', 'powered_by': 'Map Maker: https://maps.co', 'osm_type': 'way', 'osm_id': 733371831, 'boundingbox': ['21.16671', '21.1670877', '-100.9256955', '-100.9256785'], 'lat': '21.16671', 'lon': '-100.9256955', 'display_name': 'Laguna de TÃ©rminos, Guanajuato, Dolores Hidalgo, Dolores Hidalgo Cuna de la Independencia Nacional, Guanajuato, 37803, Mexico', 'class': 'highway', 'type': 'residential', 'importance': 0.4}, {'place_id': 239281451, 'licence': 'Data Â© OpenStreetMap contributors, ODbL 1.0. https://osm.org/copyright', 'powered_by': 'Map Maker: https://maps.co', 'osm_type': 'way', 'osm_id': 689197745, 'boundingbox': ['21.1625369', '21.1645179', '-100.922902', '-100.918707'], 'lat': '21.1636984', 'lon': '-100.920834', 'display_name': 'Laguna de TÃ©rminos, Las Arboledas, Dolores Hidalgo, Dolores Hidalgo Cuna de la Independencia Nacional, Guanajuato, 37803, Mexico', 'class': 'highway', 'type': 'residential', 'importance': 0.4}, {'place_id': 247973946, 'licence': 'Data Â© OpenStreetMap contributors, ODbL 1.0. https://osm.org/copyright', 'powered_by': 'Map Maker: https://maps.co', 'osm_type': 'way', 'osm_id': 733371830, 'boundingbox': ['21.165815', '21.16671', '-100.925699', '-100.9256955'], 'lat': '21.16671', 'lon': '-100.9256955', 'display_name': 'Laguna de TÃ©rminos, Guanajuato, Dolores Hidalgo, Dolores Hidalgo Cuna de la Independencia Nacional, Guanajuato, 37803, Mexico', 'class': 'highway', 'type': 'track', 'importance': 0.4}, {'place_id': 203042553, 'licence': 'Data Â© OpenStreetMap contributors, ODbL 1.0. https://osm.org/copyright', 'powered_by': 'Map Maker: https://maps.co', 'osm_type': 'way', 'osm_id': 455839997, 'boundingbox': ['19.4419543', '19.4447682', '-99.1917602', '-99.171099'], 'lat': '19.4434105', 'lon': '-99.1819631', 'display_name': 'Laguna de TÃ©rminos, Colonia Lago Sur, Miguel Hidalgo, Mexico City, 11320, Mexico', 'class': 'highway', 'type': 'cycleway', 'importance': 0.375}, {'place_id': 60033371, 'licence': 'Data Â© OpenStreetMap contributors, ODbL 1.0. https://osm.org/copyright', 'powered_by': 'Map Maker: https://maps.co', 'osm_type': 'node', 'osm_id': 5362118921, 'boundingbox': ['18.6398082', '18.6399082', '-91.5413272', '-91.5412272'], 'lat': '18.6398582', 'lon': '-91.5412772', 'display_name': 'Laguna de TÃ©rminos, Carmen, Campeche, Mexico', 'class': 'tourism', 'type': 'attraction', 'importance': 0.30100000000000005}, {'place_id': 174184567, 'licence': 'Data Â© OpenStreetMap contributors, ODbL 1.0. https://osm.org/copyright', 'powered_by': 'Map Maker: https://maps.co', 'osm_type': 'way', 'osm_id': 298353851, 'boundingbox': ['24.0615094', '24.0616178', '-104.6320899', '-104.6320181'], 'lat': '24.0615666', 'lon': '-104.632058', 'display_name': 'Laguna de Terminos, Los Eucaliptos, Durango, Municipio de Durango, Durango, 34166, Mexico', 'class': 'highway', 'type': 'secondary', 'importance': 0.3}, {'place_id': 174351147, 'licence': 'Data Â© OpenStreetMap contributors, ODbL 1.0. https://osm.org/copyright', 'powered_by': 'Map Maker: https://maps.co', 'osm_type': 'way', 'osm_id': 298353844, 'boundingbox': ['24.0574567', '24.0613245', '-104.6318733', '-104.6296529'], 'lat': '24.0594784', 'lon': '-104.6308105', 'display_name': 'Laguna de Terminos, Privadas San Ignacio, Durango, Municipio de Durango, Durango, 34166, Mexico', 'class': 'highway', 'type': 'secondary', 'importance': 0.3}]}, path=Root(), context=None))), DatumInContext(value={'place_id': 257940027, 'licence': 'Data Â© OpenStreetMap contributors, ODbL 1.0. https://osm.org/copyright', 'powered_by': 'Map Maker: https://maps.co', 'osm_type': 'way', 'osm_id': 800770558, 'boundingbox': ['25.6506844', '25.650711', '-100.3112724', '-100.3111142'], 'lat': '25.6506844', 'lon': '-100.3111142', 'display_name': 'Laguna de TÃ©rminos, Monterrey, Nuevo LeÃ³n, 64750, Mexico', 'class': 'highway', 'type': 'residential', 'importance': 0.4}, path=Index(index=1), context=DatumInContext(value=[{'place_id': 132180783, 'licence': 'Data Â© OpenStreetMap contributors, ODbL 1.0. https://osm.org/copyright', 'powered_by': 'Map Maker: https://maps.co', 'osm_type': 'way', 'osm_id': 128914583, 'boundingbox': ['25.650497', '25.6508742', '-100.3111142', '-100.3092118'], 'lat': '25.6505049', 'lon': '-100.3100514', 'display_name': 'Laguna de TÃ©rminos, Arturo B de la Garza, Monterrey, Nuevo LeÃ³n, 64700, Mexico', 'class': 'highway', 'type': 'residential', 'importance': 0.4}, {'place_id': 257940027, 'licence': 'Data Â© OpenStreetMap contributors, ODbL 1.0. https://osm.org/copyright', 'powered_by': 'Map Maker: https://maps.co', 'osm_type': 'way', 'osm_id': 800770558, 'boundingbox': ['25.6506844', '25.650711', '-100.3112724', '-100.3111142'], 'lat': '25.6506844', 'lon': '-100.3111142', 'display_name': 'Laguna de TÃ©rminos, Monterrey, Nuevo LeÃ³n, 64750, Mexico', 'class': 'highway', 'type': 'residential', 'importance': 0.4}, {'place_id': 131383095, 'licence': 'Data Â© OpenStreetMap contributors, ODbL 1.0. https://osm.org/copyright', 'powered_by': 'Map Maker: https://maps.co', 'osm_type': 'way', 'osm_id': 124126856, 'boundingbox': ['25.7224653', '25.7248376', '-100.2466767', '-100.2445865'], 'lat': '25.7234336', 'lon': '-100.2455659', 'display_name': 'Laguna de TÃ©rminos, Costa del Sol 1Â° sec, San NicolÃ¡s de los Garza, Nuevo LeÃ³n, 66490, Mexico', 'class': 'highway', 'type': 'residential', 'importance': 0.4}, {'place_id': 246750190, 'licence': 'Data Â© OpenStreetMap contributors, ODbL 1.0. https://osm.org/copyright', 'powered_by': 'Map Maker: https://maps.co', 'osm_type': 'way', 'osm_id': 733371831, 'boundingbox': ['21.16671', '21.1670877', '-100.9256955', '-100.9256785'], 'lat': '21.16671', 'lon': '-100.9256955', 'display_name': 'Laguna de TÃ©rminos, Guanajuato, Dolores Hidalgo, Dolores Hidalgo Cuna de la Independencia Nacional, Guanajuato, 37803, Mexico', 'class': 'highway', 'type': 'residential', 'importance': 0.4}, {'place_id': 239281451, 'licence': 'Data Â© OpenStreetMap contributors, ODbL 1.0. https://osm.org/copyright', 'powered_by': 'Map Maker: https://maps.co', 'osm_type': 'way', 'osm_id': 689197745, 'boundingbox': ['21.1625369', '21.1645179', '-100.922902', '-100.918707'], 'lat': '21.1636984', 'lon': '-100.920834', 'display_name': 'Laguna de TÃ©rminos, Las Arboledas, Dolores Hidalgo, Dolores Hidalgo Cuna de la Independencia Nacional, Guanajuato, 37803, Mexico', 'class': 'highway', 'type': 'residential', 'importance': 0.4}, {'place_id': 247973946, 'licence': 'Data Â© OpenStreetMap contributors, ODbL 1.0. https://osm.org/copyright', 'powered_by': 'Map Maker: https://maps.co', 'osm_type': 'way', 'osm_id': 733371830, 'boundingbox': ['21.165815', '21.16671', '-100.925699', '-100.9256955'], 'lat': '21.16671', 'lon': '-100.9256955', 'display_name': 'Laguna de TÃ©rminos, Guanajuato, Dolores Hidalgo, Dolores Hidalgo Cuna de la Independencia Nacional, Guanajuato, 37803, Mexico', 'class': 'highway', 'type': 'track', 'importance': 0.4}, {'place_id': 203042553, 'licence': 'Data Â© OpenStreetMap contributors, ODbL 1.0. https://osm.org/copyright', 'powered_by': 'Map Maker: https://maps.co', 'osm_type': 'way', 'osm_id': 455839997, 'boundingbox': ['19.4419543', '19.4447682', '-99.1917602', '-99.171099'], 'lat': '19.4434105', 'lon': '-99.1819631', 'display_name': 'Laguna de TÃ©rminos, Colonia Lago Sur, Miguel Hidalgo, Mexico City, 11320, Mexico', 'class': 'highway', 'type': 'cycleway', 'importance': 0.375}, {'place_id': 60033371, 'licence': 'Data Â© OpenStreetMap contributors, ODbL 1.0. https://osm.org/copyright', 'powered_by': 'Map Maker: https://maps.co', 'osm_type': 'node', 'osm_id': 5362118921, 'boundingbox': ['18.6398082', '18.6399082', '-91.5413272', '-91.5412272'], 'lat': '18.6398582', 'lon': '-91.5412772', 'display_name': 'Laguna de TÃ©rminos, Carmen, Campeche, Mexico', 'class': 'tourism', 'type': 'attraction', 'importance': 0.30100000000000005}, {'place_id': 174184567, 'licence': 'Data Â© OpenStreetMap contributors, ODbL 1.0. https://osm.org/copyright', 'powered_by': 'Map Maker: https://maps.co', 'osm_type': 'way', 'osm_id': 298353851, 'boundingbox': ['24.0615094', '24.0616178', '-104.6320899', '-104.6320181'], 'lat': '24.0615666', 'lon': '-104.632058', 'display_name': 'Laguna de Terminos, Los Eucaliptos, Durango, Municipio de Durango, Durango, 34166, Mexico', 'class': 'highway', 'type': 'secondary', 'importance': 0.3}, {'place_id': 174351147, 'licence': 'Data Â© OpenStreetMap contributors, ODbL 1.0. https://osm.org/copyright', 'powered_by': 'Map Maker: https://maps.co', 'osm_type': 'way', 'osm_id': 298353844, 'boundingbox': ['24.0574567', '24.0613245', '-104.6318733', '-104.6296529'], 'lat': '24.0594784', 'lon': '-104.6308105', 'display_name': 'Laguna de Terminos, Privadas San Ignacio, Durango, Municipio de Durango, Durango, 34166, Mexico', 'class': 'highway', 'type': 'secondary', 'importance': 0.3}], path=Fields('Data'), context=DatumInContext(value={'Data': [{'place_id': 132180783, 'licence': 'Data Â© OpenStreetMap contributors, ODbL 1.0. https://osm.org/copyright', 'powered_by': 'Map Maker: https://maps.co', 'osm_type': 'way', 'osm_id': 128914583, 'boundingbox': ['25.650497', '25.6508742', '-100.3111142', '-100.3092118'], 'lat': '25.6505049', 'lon': '-100.3100514', 'display_name': 'Laguna de TÃ©rminos, Arturo B de la Garza, Monterrey, Nuevo LeÃ³n, 64700, Mexico', 'class': 'highway', 'type': 'residential', 'importance': 0.4}, {'place_id': 257940027, 'licence': 'Data Â© OpenStreetMap contributors, ODbL 1.0. https://osm.org/copyright', 'powered_by': 'Map Maker: https://maps.co', 'osm_type': 'way', 'osm_id': 800770558, 'boundingbox': ['25.6506844', '25.650711', '-100.3112724', '-100.3111142'], 'lat': '25.6506844', 'lon': '-100.3111142', 'display_name': 'Laguna de TÃ©rminos, Monterrey, Nuevo LeÃ³n, 64750, Mexico', 'class': 'highway', 'type': 'residential', 'importance': 0.4}, {'place_id': 131383095, 'licence': 'Data Â© OpenStreetMap contributors, ODbL 1.0. https://osm.org/copyright', 'powered_by': 'Map Maker: https://maps.co', 'osm_type': 'way', 'osm_id': 124126856, 'boundingbox': ['25.7224653', '25.7248376', '-100.2466767', '-100.2445865'], 'lat': '25.7234336', 'lon': '-100.2455659', 'display_name': 'Laguna de TÃ©rminos, Costa del Sol 1Â° sec, San NicolÃ¡s de los Garza, Nuevo LeÃ³n, 66490, Mexico', 'class': 'highway', 'type': 'residential', 'importance': 0.4}, {'place_id': 246750190, 'licence': 'Data Â© OpenStreetMap contributors, ODbL 1.0. https://osm.org/copyright', 'powered_by': 'Map Maker: https://maps.co', 'osm_type': 'way', 'osm_id': 733371831, 'boundingbox': ['21.16671', '21.1670877', '-100.9256955', '-100.9256785'], 'lat': '21.16671', 'lon': '-100.9256955', 'display_name': 'Laguna de TÃ©rminos, Guanajuato, Dolores Hidalgo, Dolores Hidalgo Cuna de la Independencia Nacional, Guanajuato, 37803, Mexico', 'class': 'highway', 'type': 'residential', 'importance': 0.4}, {'place_id': 239281451, 'licence': 'Data Â© OpenStreetMap contributors, ODbL 1.0. https://osm.org/copyright', 'powered_by': 'Map Maker: https://maps.co', 'osm_type': 'way', 'osm_id': 689197745, 'boundingbox': ['21.1625369', '21.1645179', '-100.922902', '-100.918707'], 'lat': '21.1636984', 'lon': '-100.920834', 'display_name': 'Laguna de TÃ©rminos, Las Arboledas, Dolores Hidalgo, Dolores Hidalgo Cuna de la Independencia Nacional, Guanajuato, 37803, Mexico', 'class': 'highway', 'type': 'residential', 'importance': 0.4}, {'place_id': 247973946, 'licence': 'Data Â© OpenStreetMap contributors, ODbL 1.0. https://osm.org/copyright', 'powered_by': 'Map Maker: https://maps.co', 'osm_type': 'way', 'osm_id': 733371830, 'boundingbox': ['21.165815', '21.16671', '-100.925699', '-100.9256955'], 'lat': '21.16671', 'lon': '-100.9256955', 'display_name': 'Laguna de TÃ©rminos, Guanajuato, Dolores Hidalgo, Dolores Hidalgo Cuna de la Independencia Nacional, Guanajuato, 37803, Mexico', 'class': 'highway', 'type': 'track', 'importance': 0.4}, {'place_id': 203042553, 'licence': 'Data Â© OpenStreetMap contributors, ODbL 1.0. https://osm.org/copyright', 'powered_by': 'Map Maker: https://maps.co', 'osm_type': 'way', 'osm_id': 455839997, 'boundingbox': ['19.4419543', '19.4447682', '-99.1917602', '-99.171099'], 'lat': '19.4434105', 'lon': '-99.1819631', 'display_name': 'Laguna de TÃ©rminos, Colonia Lago Sur, Miguel Hidalgo, Mexico City, 11320, Mexico', 'class': 'highway', 'type': 'cycleway', 'importance': 0.375}, {'place_id': 60033371, 'licence': 'Data Â© OpenStreetMap contributors, ODbL 1.0. https://osm.org/copyright', 'powered_by': 'Map Maker: https://maps.co', 'osm_type': 'node', 'osm_id': 5362118921, 'boundingbox': ['18.6398082', '18.6399082', '-91.5413272', '-91.5412272'], 'lat': '18.6398582', 'lon': '-91.5412772', 'display_name': 'Laguna de TÃ©rminos, Carmen, Campeche, Mexico', 'class': 'tourism', 'type': 'attraction', 'importance': 0.30100000000000005}, {'place_id': 174184567, 'licence': 'Data Â© OpenStreetMap contributors, ODbL 1.0. https://osm.org/copyright', 'powered_by': 'Map Maker: https://maps.co', 'osm_type': 'way', 'osm_id': 298353851, 'boundingbox': ['24.0615094', '24.0616178', '-104.6320899', '-104.6320181'], 'lat': '24.0615666', 'lon': '-104.632058', 'display_name': 'Laguna de Terminos, Los Eucaliptos, Durango, Municipio de Durango, Durango, 34166, Mexico', 'class': 'highway', 'type': 'secondary', 'importance': 0.3}, {'place_id': 174351147, 'licence': 'Data Â© OpenStreetMap contributors, ODbL 1.0. https://osm.org/copyright', 'powered_by': 'Map Maker: https://maps.co', 'osm_type': 'way', 'osm_id': 298353844, 'boundingbox': ['24.0574567', '24.0613245', '-104.6318733', '-104.6296529'], 'lat': '24.0594784', 'lon': '-104.6308105', 'display_name': 'Laguna de Terminos, Privadas San Ignacio, Durango, Municipio de Durango, Durango, 34166, Mexico', 'class': 'highway', 'type': 'secondary', 'importance': 0.3}]}, path=Root(), context=None))), DatumInContext(value={'place_id': 131383095, 'licence': 'Data Â© OpenStreetMap contributors, ODbL 1.0. https://osm.org/copyright', 'powered_by': 'Map Maker: https://maps.co', 'osm_type': 'way', 'osm_id': 124126856, 'boundingbox': ['25.7224653', '25.7248376', '-100.2466767', '-100.2445865'], 'lat': '25.7234336', 'lon': '-100.2455659', 'display_name': 'Laguna de TÃ©rminos, Costa del Sol 1Â° sec, San NicolÃ¡s de los Garza, Nuevo LeÃ³n, 66490, Mexico', 'class': 'highway', 'type': 'residential', 'importance': 0.4}, path=Index(index=2), context=DatumInContext(value=[{'place_id': 132180783, 'licence': 'Data Â© OpenStreetMap contributors, ODbL 1.0. https://osm.org/copyright', 'powered_by': 'Map Maker: https://maps.co', 'osm_type': 'way', 'osm_id': 128914583, 'boundingbox': ['25.650497', '25.6508742', '-100.3111142', '-100.3092118'], 'lat': '25.6505049', 'lon': '-100.3100514', 'display_name': 'Laguna de TÃ©rminos, Arturo B de la Garza, Monterrey, Nuevo LeÃ³n, 64700, Mexico', 'class': 'highway', 'type': 'residential', 'importance': 0.4}, {'place_id': 257940027, 'licence': 'Data Â© OpenStreetMap contributors, ODbL 1.0. https://osm.org/copyright', 'powered_by': 'Map Maker: https://maps.co', 'osm_type': 'way', 'osm_id': 800770558, 'boundingbox': ['25.6506844', '25.650711', '-100.3112724', '-100.3111142'], 'lat': '25.6506844', 'lon': '-100.3111142', 'display_name': 'Laguna de TÃ©rminos, Monterrey, Nuevo LeÃ³n, 64750, Mexico', 'class': 'highway', 'type': 'residential', 'importance': 0.4}, {'place_id': 131383095, 'licence': 'Data Â© OpenStreetMap contributors, ODbL 1.0. https://osm.org/copyright', 'powered_by': 'Map Maker: https://maps.co', 'osm_type': 'way', 'osm_id': 124126856, 'boundingbox': ['25.7224653', '25.7248376', '-100.2466767', '-100.2445865'], 'lat': '25.7234336', 'lon': '-100.2455659', 'display_name': 'Laguna de TÃ©rminos, Costa del Sol 1Â° sec, San NicolÃ¡s de los Garza, Nuevo LeÃ³n, 66490, Mexico', 'class': 'highway', 'type': 'residential', 'importance': 0.4}, {'place_id': 246750190, 'licence': 'Data Â© OpenStreetMap contributors, ODbL 1.0. https://osm.org/copyright', 'powered_by': 'Map Maker: https://maps.co', 'osm_type': 'way', 'osm_id': 733371831, 'boundingbox': ['21.16671', '21.1670877', '-100.9256955', '-100.9256785'], 'lat': '21.16671', 'lon': '-100.9256955', 'display_name': 'Laguna de TÃ©rminos, Guanajuato, Dolores Hidalgo, Dolores Hidalgo Cuna de la Independencia Nacional, Guanajuato, 37803, Mexico', 'class': 'highway', 'type': 'residential', 'importance': 0.4}, {'place_id': 239281451, 'licence': 'Data Â© OpenStreetMap contributors, ODbL 1.0. https://osm.org/copyright', 'powered_by': 'Map Maker: https://maps.co', 'osm_type': 'way', 'osm_id': 689197745, 'boundingbox': ['21.1625369', '21.1645179', '-100.922902', '-100.918707'], 'lat': '21.1636984', 'lon': '-100.920834', 'display_name': 'Laguna de TÃ©rminos, Las Arboledas, Dolores Hidalgo, Dolores Hidalgo Cuna de la Independencia Nacional, Guanajuato, 37803, Mexico', 'class': 'highway', 'type': 'residential', 'importance': 0.4}, {'place_id': 247973946, 'licence': 'Data Â© OpenStreetMap contributors, ODbL 1.0. https://osm.org/copyright', 'powered_by': 'Map Maker: https://maps.co', 'osm_type': 'way', 'osm_id': 733371830, 'boundingbox': ['21.165815', '21.16671', '-100.925699', '-100.9256955'], 'lat': '21.16671', 'lon': '-100.9256955', 'display_name': 'Laguna de TÃ©rminos, Guanajuato, Dolores Hidalgo, Dolores Hidalgo Cuna de la Independencia Nacional, Guanajuato, 37803, Mexico', 'class': 'highway', 'type': 'track', 'importance': 0.4}, {'place_id': 203042553, 'licence': 'Data Â© OpenStreetMap contributors, ODbL 1.0. https://osm.org/copyright', 'powered_by': 'Map Maker: https://maps.co', 'osm_type': 'way', 'osm_id': 455839997, 'boundingbox': ['19.4419543', '19.4447682', '-99.1917602', '-99.171099'], 'lat': '19.4434105', 'lon': '-99.1819631', 'display_name': 'Laguna de TÃ©rminos, Colonia Lago Sur, Miguel Hidalgo, Mexico City, 11320, Mexico', 'class': 'highway', 'type': 'cycleway', 'importance': 0.375}, {'place_id': 60033371, 'licence': 'Data Â© OpenStreetMap contributors, ODbL 1.0. https://osm.org/copyright', 'powered_by': 'Map Maker: https://maps.co', 'osm_type': 'node', 'osm_id': 5362118921, 'boundingbox': ['18.6398082', '18.6399082', '-91.5413272', '-91.5412272'], 'lat': '18.6398582', 'lon': '-91.5412772', 'display_name': 'Laguna de TÃ©rminos, Carmen, Campeche, Mexico', 'class': 'tourism', 'type': 'attraction', 'importance': 0.30100000000000005}, {'place_id': 174184567, 'licence': 'Data Â© OpenStreetMap contributors, ODbL 1.0. https://osm.org/copyright', 'powered_by': 'Map Maker: https://maps.co', 'osm_type': 'way', 'osm_id': 298353851, 'boundingbox': ['24.0615094', '24.0616178', '-104.6320899', '-104.6320181'], 'lat': '24.0615666', 'lon': '-104.632058', 'display_name': 'Laguna de Terminos, Los Eucaliptos, Durango, Municipio de Durango, Durango, 34166, Mexico', 'class': 'highway', 'type': 'secondary', 'importance': 0.3}, {'place_id': 174351147, 'licence': 'Data Â© OpenStreetMap contributors, ODbL 1.0. https://osm.org/copyright', 'powered_by': 'Map Maker: https://maps.co', 'osm_type': 'way', 'osm_id': 298353844, 'boundingbox': ['24.0574567', '24.0613245', '-104.6318733', '-104.6296529'], 'lat': '24.0594784', 'lon': '-104.6308105', 'display_name': 'Laguna de Terminos, Privadas San Ignacio, Durango, Municipio de Durango, Durango, 34166, Mexico', 'class': 'highway', 'type': 'secondary', 'importance': 0.3}], path=Fields('Data'), context=DatumInContext(value={'Data': [{'place_id': 132180783, 'licence': 'Data Â© OpenStreetMap contributors, ODbL 1.0. https://osm.org/copyright', 'powered_by': 'Map Maker: https://maps.co', 'osm_type': 'way', 'osm_id': 128914583, 'boundingbox': ['25.650497', '25.6508742', '-100.3111142', '-100.3092118'], 'lat': '25.6505049', 'lon': '-100.3100514', 'display_name': 'Laguna de TÃ©rminos, Arturo B de la Garza, Monterrey, Nuevo LeÃ³n, 64700, Mexico', 'class': 'highway', 'type': 'residential', 'importance': 0.4}, {'place_id': 257940027, 'licence': 'Data Â© OpenStreetMap contributors, ODbL 1.0. https://osm.org/copyright', 'powered_by': 'Map Maker: https://maps.co', 'osm_type': 'way', 'osm_id': 800770558, 'boundingbox': ['25.6506844', '25.650711', '-100.3112724', '-100.3111142'], 'lat': '25.6506844', 'lon': '-100.3111142', 'display_name': 'Laguna de TÃ©rminos, Monterrey, Nuevo LeÃ³n, 64750, Mexico', 'class': 'highway', 'type': 'residential', 'importance': 0.4}, {'place_id': 131383095, 'licence': 'Data Â© OpenStreetMap contributors, ODbL 1.0. https://osm.org/copyright', 'powered_by': 'Map Maker: https://maps.co', 'osm_type': 'way', 'osm_id': 124126856, 'boundingbox': ['25.7224653', '25.7248376', '-100.2466767', '-100.2445865'], 'lat': '25.7234336', 'lon': '-100.2455659', 'display_name': 'Laguna de TÃ©rminos, Costa del Sol 1Â° sec, San NicolÃ¡s de los Garza, Nuevo LeÃ³n, 66490, Mexico', 'class': 'highway', 'type': 'residential', 'importance': 0.4}, {'place_id': 246750190, 'licence': 'Data Â© OpenStreetMap contributors, ODbL 1.0. https://osm.org/copyright', 'powered_by': 'Map Maker: https://maps.co', 'osm_type': 'way', 'osm_id': 733371831, 'boundingbox': ['21.16671', '21.1670877', '-100.9256955', '-100.9256785'], 'lat': '21.16671', 'lon': '-100.9256955', 'display_name': 'Laguna de TÃ©rminos, Guanajuato, Dolores Hidalgo, Dolores Hidalgo Cuna de la Independencia Nacional, Guanajuato, 37803, Mexico', 'class': 'highway', 'type': 'residential', 'importance': 0.4}, {'place_id': 239281451, 'licence': 'Data Â© OpenStreetMap contributors, ODbL 1.0. https://osm.org/copyright', 'powered_by': 'Map Maker: https://maps.co', 'osm_type': 'way', 'osm_id': 689197745, 'boundingbox': ['21.1625369', '21.1645179', '-100.922902', '-100.918707'], 'lat': '21.1636984', 'lon': '-100.920834', 'display_name': 'Laguna de TÃ©rminos, Las Arboledas, Dolores Hidalgo, Dolores Hidalgo Cuna de la Independencia Nacional, Guanajuato, 37803, Mexico', 'class': 'highway', 'type': 'residential', 'importance': 0.4}, {'place_id': 247973946, 'licence': 'Data Â© OpenStreetMap contributors, ODbL 1.0. https://osm.org/copyright', 'powered_by': 'Map Maker: https://maps.co', 'osm_type': 'way', 'osm_id': 733371830, 'boundingbox': ['21.165815', '21.16671', '-100.925699', '-100.9256955'], 'lat': '21.16671', 'lon': '-100.9256955', 'display_name': 'Laguna de TÃ©rminos, Guanajuato, Dolores Hidalgo, Dolores Hidalgo Cuna de la Independencia Nacional, Guanajuato, 37803, Mexico', 'class': 'highway', 'type': 'track', 'importance': 0.4}, {'place_id': 203042553, 'licence': 'Data Â© OpenStreetMap contributors, ODbL 1.0. https://osm.org/copyright', 'powered_by': 'Map Maker: https://maps.co', 'osm_type': 'way', 'osm_id': 455839997, 'boundingbox': ['19.4419543', '19.4447682', '-99.1917602', '-99.171099'], 'lat': '19.4434105', 'lon': '-99.1819631', 'display_name': 'Laguna de TÃ©rminos, Colonia Lago Sur, Miguel Hidalgo, Mexico City, 11320, Mexico', 'class': 'highway', 'type': 'cycleway', 'importance': 0.375}, {'place_id': 60033371, 'licence': 'Data Â© OpenStreetMap contributors, ODbL 1.0. https://osm.org/copyright', 'powered_by': 'Map Maker: https://maps.co', 'osm_type': 'node', 'osm_id': 5362118921, 'boundingbox': ['18.6398082', '18.6399082', '-91.5413272', '-91.5412272'], 'lat': '18.6398582', 'lon': '-91.5412772', 'display_name': 'Laguna de TÃ©rminos, Carmen, Campeche, Mexico', 'class': 'tourism', 'type': 'attraction', 'importance': 0.30100000000000005}, {'place_id': 174184567, 'licence': 'Data Â© OpenStreetMap contributors, ODbL 1.0. https://osm.org/copyright', 'powered_by': 'Map Maker: https://maps.co', 'osm_type': 'way', 'osm_id': 298353851, 'boundingbox': ['24.0615094', '24.0616178', '-104.6320899', '-104.6320181'], 'lat': '24.0615666', 'lon': '-104.632058', 'display_name': 'Laguna de Terminos, Los Eucaliptos, Durango, Municipio de Durango, Durango, 34166, Mexico', 'class': 'highway', 'type': 'secondary', 'importance': 0.3}, {'place_id': 174351147, 'licence': 'Data Â© OpenStreetMap contributors, ODbL 1.0. https://osm.org/copyright', 'powered_by': 'Map Maker: https://maps.co', 'osm_type': 'way', 'osm_id': 298353844, 'boundingbox': ['24.0574567', '24.0613245', '-104.6318733', '-104.6296529'], 'lat': '24.0594784', 'lon': '-104.6308105', 'display_name': 'Laguna de Terminos, Privadas San Ignacio, Durango, Municipio de Durango, Durango, 34166, Mexico', 'class': 'highway', 'type': 'secondary', 'importance': 0.3}]}, path=Root(), context=None))), DatumInContext(value={'place_id': 246750190, 'licence': 'Data Â© OpenStreetMap contributors, ODbL 1.0. https://osm.org/copyright', 'powered_by': 'Map Maker: https://maps.co', 'osm_type': 'way', 'osm_id': 733371831, 'boundingbox': ['21.16671', '21.1670877', '-100.9256955', '-100.9256785'], 'lat': '21.16671', 'lon': '-100.9256955', 'display_name': 'Laguna de TÃ©rminos, Guanajuato, Dolores Hidalgo, Dolores Hidalgo Cuna de la Independencia Nacional, Guanajuato, 37803, Mexico', 'class': 'highway', 'type': 'residential', 'importance': 0.4}, path=Index(index=3), context=DatumInContext(value=[{'place_id': 132180783, 'licence': 'Data Â© OpenStreetMap contributors, ODbL 1.0. https://osm.org/copyright', 'powered_by': 'Map Maker: https://maps.co', 'osm_type': 'way', 'osm_id': 128914583, 'boundingbox': ['25.650497', '25.6508742', '-100.3111142', '-100.3092118'], 'lat': '25.6505049', 'lon': '-100.3100514', 'display_name': 'Laguna de TÃ©rminos, Arturo B de la Garza, Monterrey, Nuevo LeÃ³n, 64700, Mexico', 'class': 'highway', 'type': 'residential', 'importance': 0.4}, {'place_id': 257940027, 'licence': 'Data Â© OpenStreetMap contributors, ODbL 1.0. https://osm.org/copyright', 'powered_by': 'Map Maker: https://maps.co', 'osm_type': 'way', 'osm_id': 800770558, 'boundingbox': ['25.6506844', '25.650711', '-100.3112724', '-100.3111142'], 'lat': '25.6506844', 'lon': '-100.3111142', 'display_name': 'Laguna de TÃ©rminos, Monterrey, Nuevo LeÃ³n, 64750, Mexico', 'class': 'highway', 'type': 'residential', 'importance': 0.4}, {'place_id': 131383095, 'licence': 'Data Â© OpenStreetMap contributors, ODbL 1.0. https://osm.org/copyright', 'powered_by': 'Map Maker: https://maps.co', 'osm_type': 'way', 'osm_id': 124126856, 'boundingbox': ['25.7224653', '25.7248376', '-100.2466767', '-100.2445865'], 'lat': '25.7234336', 'lon': '-100.2455659', 'display_name': 'Laguna de TÃ©rminos, Costa del Sol 1Â° sec, San NicolÃ¡s de los Garza, Nuevo LeÃ³n, 66490, Mexico', 'class': 'highway', 'type': 'residential', 'importance': 0.4}, {'place_id': 246750190, 'licence': 'Data Â© OpenStreetMap contributors, ODbL 1.0. https://osm.org/copyright', 'powered_by': 'Map Maker: https://maps.co', 'osm_type': 'way', 'osm_id': 733371831, 'boundingbox': ['21.16671', '21.1670877', '-100.9256955', '-100.9256785'], 'lat': '21.16671', 'lon': '-100.9256955', 'display_name': 'Laguna de TÃ©rminos, Guanajuato, Dolores Hidalgo, Dolores Hidalgo Cuna de la Independencia Nacional, Guanajuato, 37803, Mexico', 'class': 'highway', 'type': 'residential', 'importance': 0.4}, {'place_id': 239281451, 'licence': 'Data Â© OpenStreetMap contributors, ODbL 1.0. https://osm.org/copyright', 'powered_by': 'Map Maker: https://maps.co', 'osm_type': 'way', 'osm_id': 689197745, 'boundingbox': ['21.1625369', '21.1645179', '-100.922902', '-100.918707'], 'lat': '21.1636984', 'lon': '-100.920834', 'display_name': 'Laguna de TÃ©rminos, Las Arboledas, Dolores Hidalgo, Dolores Hidalgo Cuna de la Independencia Nacional, Guanajuato, 37803, Mexico', 'class': 'highway', 'type': 'residential', 'importance': 0.4}, {'place_id': 247973946, 'licence': 'Data Â© OpenStreetMap contributors, ODbL 1.0. https://osm.org/copyright', 'powered_by': 'Map Maker: https://maps.co', 'osm_type': 'way', 'osm_id': 733371830, 'boundingbox': ['21.165815', '21.16671', '-100.925699', '-100.9256955'], 'lat': '21.16671', 'lon': '-100.9256955', 'display_name': 'Laguna de TÃ©rminos, Guanajuato, Dolores Hidalgo, Dolores Hidalgo Cuna de la Independencia Nacional, Guanajuato, 37803, Mexico', 'class': 'highway', 'type': 'track', 'importance': 0.4}, {'place_id': 203042553, 'licence': 'Data Â© OpenStreetMap contributors, ODbL 1.0. https://osm.org/copyright', 'powered_by': 'Map Maker: https://maps.co', 'osm_type': 'way', 'osm_id': 455839997, 'boundingbox': ['19.4419543', '19.4447682', '-99.1917602', '-99.171099'], 'lat': '19.4434105', 'lon': '-99.1819631', 'display_name': 'Laguna de TÃ©rminos, Colonia Lago Sur, Miguel Hidalgo, Mexico City, 11320, Mexico', 'class': 'highway', 'type': 'cycleway', 'importance': 0.375}, {'place_id': 60033371, 'licence': 'Data Â© OpenStreetMap contributors, ODbL 1.0. https://osm.org/copyright', 'powered_by': 'Map Maker: https://maps.co', 'osm_type': 'node', 'osm_id': 5362118921, 'boundingbox': ['18.6398082', '18.6399082', '-91.5413272', '-91.5412272'], 'lat': '18.6398582', 'lon': '-91.5412772', 'display_name': 'Laguna de TÃ©rminos, Carmen, Campeche, Mexico', 'class': 'tourism', 'type': 'attraction', 'importance': 0.30100000000000005}, {'place_id': 174184567, 'licence': 'Data Â© OpenStreetMap contributors, ODbL 1.0. https://osm.org/copyright', 'powered_by': 'Map Maker: https://maps.co', 'osm_type': 'way', 'osm_id': 298353851, 'boundingbox': ['24.0615094', '24.0616178', '-104.6320899', '-104.6320181'], 'lat': '24.0615666', 'lon': '-104.632058', 'display_name': 'Laguna de Terminos, Los Eucaliptos, Durango, Municipio de Durango, Durango, 34166, Mexico', 'class': 'highway', 'type': 'secondary', 'importance': 0.3}, {'place_id': 174351147, 'licence': 'Data Â© OpenStreetMap contributors, ODbL 1.0. https://osm.org/copyright', 'powered_by': 'Map Maker: https://maps.co', 'osm_type': 'way', 'osm_id': 298353844, 'boundingbox': ['24.0574567', '24.0613245', '-104.6318733', '-104.6296529'], 'lat': '24.0594784', 'lon': '-104.6308105', 'display_name': 'Laguna de Terminos, Privadas San Ignacio, Durango, Municipio de Durango, Durango, 34166, Mexico', 'class': 'highway', 'type': 'secondary', 'importance': 0.3}], path=Fields('Data'), context=DatumInContext(value={'Data': [{'place_id': 132180783, 'licence': 'Data Â© OpenStreetMap contributors, ODbL 1.0. https://osm.org/copyright', 'powered_by': 'Map Maker: https://maps.co', 'osm_type': 'way', 'osm_id': 128914583, 'boundingbox': ['25.650497', '25.6508742', '-100.3111142', '-100.3092118'], 'lat': '25.6505049', 'lon': '-100.3100514', 'display_name': 'Laguna de TÃ©rminos, Arturo B de la Garza, Monterrey, Nuevo LeÃ³n, 64700, Mexico', 'class': 'highway', 'type': 'residential', 'importance': 0.4}, {'place_id': 257940027, 'licence': 'Data Â© OpenStreetMap contributors, ODbL 1.0. https://osm.org/copyright', 'powered_by': 'Map Maker: https://maps.co', 'osm_type': 'way', 'osm_id': 800770558, 'boundingbox': ['25.6506844', '25.650711', '-100.3112724', '-100.3111142'], 'lat': '25.6506844', 'lon': '-100.3111142', 'display_name': 'Laguna de TÃ©rminos, Monterrey, Nuevo LeÃ³n, 64750, Mexico', 'class': 'highway', 'type': 'residential', 'importance': 0.4}, {'place_id': 131383095, 'licence': 'Data Â© OpenStreetMap contributors, ODbL 1.0. https://osm.org/copyright', 'powered_by': 'Map Maker: https://maps.co', 'osm_type': 'way', 'osm_id': 124126856, 'boundingbox': ['25.7224653', '25.7248376', '-100.2466767', '-100.2445865'], 'lat': '25.7234336', 'lon': '-100.2455659', 'display_name': 'Laguna de TÃ©rminos, Costa del Sol 1Â° sec, San NicolÃ¡s de los Garza, Nuevo LeÃ³n, 66490, Mexico', 'class': 'highway', 'type': 'residential', 'importance': 0.4}, {'place_id': 246750190, 'licence': 'Data Â© OpenStreetMap contributors, ODbL 1.0. https://osm.org/copyright', 'powered_by': 'Map Maker: https://maps.co', 'osm_type': 'way', 'osm_id': 733371831, 'boundingbox': ['21.16671', '21.1670877', '-100.9256955', '-100.9256785'], 'lat': '21.16671', 'lon': '-100.9256955', 'display_name': 'Laguna de TÃ©rminos, Guanajuato, Dolores Hidalgo, Dolores Hidalgo Cuna de la Independencia Nacional, Guanajuato, 37803, Mexico', 'class': 'highway', 'type': 'residential', 'importance': 0.4}, {'place_id': 239281451, 'licence': 'Data Â© OpenStreetMap contributors, ODbL 1.0. https://osm.org/copyright', 'powered_by': 'Map Maker: https://maps.co', 'osm_type': 'way', 'osm_id': 689197745, 'boundingbox': ['21.1625369', '21.1645179', '-100.922902', '-100.918707'], 'lat': '21.1636984', 'lon': '-100.920834', 'display_name': 'Laguna de TÃ©rminos, Las Arboledas, Dolores Hidalgo, Dolores Hidalgo Cuna de la Independencia Nacional, Guanajuato, 37803, Mexico', 'class': 'highway', 'type': 'residential', 'importance': 0.4}, {'place_id': 247973946, 'licence': 'Data Â© OpenStreetMap contributors, ODbL 1.0. https://osm.org/copyright', 'powered_by': 'Map Maker: https://maps.co', 'osm_type': 'way', 'osm_id': 733371830, 'boundingbox': ['21.165815', '21.16671', '-100.925699', '-100.9256955'], 'lat': '21.16671', 'lon': '-100.9256955', 'display_name': 'Laguna de TÃ©rminos, Guanajuato, Dolores Hidalgo, Dolores Hidalgo Cuna de la Independencia Nacional, Guanajuato, 37803, Mexico', 'class': 'highway', 'type': 'track', 'importance': 0.4}, {'place_id': 203042553, 'licence': 'Data Â© OpenStreetMap contributors, ODbL 1.0. https://osm.org/copyright', 'powered_by': 'Map Maker: https://maps.co', 'osm_type': 'way', 'osm_id': 455839997, 'boundingbox': ['19.4419543', '19.4447682', '-99.1917602', '-99.171099'], 'lat': '19.4434105', 'lon': '-99.1819631', 'display_name': 'Laguna de TÃ©rminos, Colonia Lago Sur, Miguel Hidalgo, Mexico City, 11320, Mexico', 'class': 'highway', 'type': 'cycleway', 'importance': 0.375}, {'place_id': 60033371, 'licence': 'Data Â© OpenStreetMap contributors, ODbL 1.0. https://osm.org/copyright', 'powered_by': 'Map Maker: https://maps.co', 'osm_type': 'node', 'osm_id': 5362118921, 'boundingbox': ['18.6398082', '18.6399082', '-91.5413272', '-91.5412272'], 'lat': '18.6398582', 'lon': '-91.5412772', 'display_name': 'Laguna de TÃ©rminos, Carmen, Campeche, Mexico', 'class': 'tourism', 'type': 'attraction', 'importance': 0.30100000000000005}, {'place_id': 174184567, 'licence': 'Data Â© OpenStreetMap contributors, ODbL 1.0. https://osm.org/copyright', 'powered_by': 'Map Maker: https://maps.co', 'osm_type': 'way', 'osm_id': 298353851, 'boundingbox': ['24.0615094', '24.0616178', '-104.6320899', '-104.6320181'], 'lat': '24.0615666', 'lon': '-104.632058', 'display_name': 'Laguna de Terminos, Los Eucaliptos, Durango, Municipio de Durango, Durango, 34166, Mexico', 'class': 'highway', 'type': 'secondary', 'importance': 0.3}, {'place_id': 174351147, 'licence': 'Data Â© OpenStreetMap contributors, ODbL 1.0. https://osm.org/copyright', 'powered_by': 'Map Maker: https://maps.co', 'osm_type': 'way', 'osm_id': 298353844, 'boundingbox': ['24.0574567', '24.0613245', '-104.6318733', '-104.6296529'], 'lat': '24.0594784', 'lon': '-104.6308105', 'display_name': 'Laguna de Terminos, Privadas San Ignacio, Durango, Municipio de Durango, Durango, 34166, Mexico', 'class': 'highway', 'type': 'secondary', 'importance': 0.3}]}, path=Root(), context=None))), DatumInContext(value={'place_id': 239281451, 'licence': 'Data Â© OpenStreetMap contributors, ODbL 1.0. https://osm.org/copyright', 'powered_by': 'Map Maker: https://maps.co', 'osm_type': 'way', 'osm_id': 689197745, 'boundingbox': ['21.1625369', '21.1645179', '-100.922902', '-100.918707'], 'lat': '21.1636984', 'lon': '-100.920834', 'display_name': 'Laguna de TÃ©rminos, Las Arboledas, Dolores Hidalgo, Dolores Hidalgo Cuna de la Independencia Nacional, Guanajuato, 37803, Mexico', 'class': 'highway', 'type': 'residential', 'importance': 0.4}, path=Index(index=4), context=DatumInContext(value=[{'place_id': 132180783, 'licence': 'Data Â© OpenStreetMap contributors, ODbL 1.0. https://osm.org/copyright', 'powered_by': 'Map Maker: https://maps.co', 'osm_type': 'way', 'osm_id': 128914583, 'boundingbox': ['25.650497', '25.6508742', '-100.3111142', '-100.3092118'], 'lat': '25.6505049', 'lon': '-100.3100514', 'display_name': 'Laguna de TÃ©rminos, Arturo B de la Garza, Monterrey, Nuevo LeÃ³n, 64700, Mexico', 'class': 'highway', 'type': 'residential', 'importance': 0.4}, {'place_id': 257940027, 'licence': 'Data Â© OpenStreetMap contributors, ODbL 1.0. https://osm.org/copyright', 'powered_by': 'Map Maker: https://maps.co', 'osm_type': 'way', 'osm_id': 800770558, 'boundingbox': ['25.6506844', '25.650711', '-100.3112724', '-100.3111142'], 'lat': '25.6506844', 'lon': '-100.3111142', 'display_name': 'Laguna de TÃ©rminos, Monterrey, Nuevo LeÃ³n, 64750, Mexico', 'class': 'highway', 'type': 'residential', 'importance': 0.4}, {'place_id': 131383095, 'licence': 'Data Â© OpenStreetMap contributors, ODbL 1.0. https://osm.org/copyright', 'powered_by': 'Map Maker: https://maps.co', 'osm_type': 'way', 'osm_id': 124126856, 'boundingbox': ['25.7224653', '25.7248376', '-100.2466767', '-100.2445865'], 'lat': '25.7234336', 'lon': '-100.2455659', 'display_name': 'Laguna de TÃ©rminos, Costa del Sol 1Â° sec, San NicolÃ¡s de los Garza, Nuevo LeÃ³n, 66490, Mexico', 'class': 'highway', 'type': 'residential', 'importance': 0.4}, {'place_id': 246750190, 'licence': 'Data Â© OpenStreetMap contributors, ODbL 1.0. https://osm.org/copyright', 'powered_by': 'Map Maker: https://maps.co', 'osm_type': 'way', 'osm_id': 733371831, 'boundingbox': ['21.16671', '21.1670877', '-100.9256955', '-100.9256785'], 'lat': '21.16671', 'lon': '-100.9256955', 'display_name': 'Laguna de TÃ©rminos, Guanajuato, Dolores Hidalgo, Dolores Hidalgo Cuna de la Independencia Nacional, Guanajuato, 37803, Mexico', 'class': 'highway', 'type': 'residential', 'importance': 0.4}, {'place_id': 239281451, 'licence': 'Data Â© OpenStreetMap contributors, ODbL 1.0. https://osm.org/copyright', 'powered_by': 'Map Maker: https://maps.co', 'osm_type': 'way', 'osm_id': 689197745, 'boundingbox': ['21.1625369', '21.1645179', '-100.922902', '-100.918707'], 'lat': '21.1636984', 'lon': '-100.920834', 'display_name': 'Laguna de TÃ©rminos, Las Arboledas, Dolores Hidalgo, Dolores Hidalgo Cuna de la Independencia Nacional, Guanajuato, 37803, Mexico', 'class': 'highway', 'type': 'residential', 'importance': 0.4}, {'place_id': 247973946, 'licence': 'Data Â© OpenStreetMap contributors, ODbL 1.0. https://osm.org/copyright', 'powered_by': 'Map Maker: https://maps.co', 'osm_type': 'way', 'osm_id': 733371830, 'boundingbox': ['21.165815', '21.16671', '-100.925699', '-100.9256955'], 'lat': '21.16671', 'lon': '-100.9256955', 'display_name': 'Laguna de TÃ©rminos, Guanajuato, Dolores Hidalgo, Dolores Hidalgo Cuna de la Independencia Nacional, Guanajuato, 37803, Mexico', 'class': 'highway', 'type': 'track', 'importance': 0.4}, {'place_id': 203042553, 'licence': 'Data Â© OpenStreetMap contributors, ODbL 1.0. https://osm.org/copyright', 'powered_by': 'Map Maker: https://maps.co', 'osm_type': 'way', 'osm_id': 455839997, 'boundingbox': ['19.4419543', '19.4447682', '-99.1917602', '-99.171099'], 'lat': '19.4434105', 'lon': '-99.1819631', 'display_name': 'Laguna de TÃ©rminos, Colonia Lago Sur, Miguel Hidalgo, Mexico City, 11320, Mexico', 'class': 'highway', 'type': 'cycleway', 'importance': 0.375}, {'place_id': 60033371, 'licence': 'Data Â© OpenStreetMap contributors, ODbL 1.0. https://osm.org/copyright', 'powered_by': 'Map Maker: https://maps.co', 'osm_type': 'node', 'osm_id': 5362118921, 'boundingbox': ['18.6398082', '18.6399082', '-91.5413272', '-91.5412272'], 'lat': '18.6398582', 'lon': '-91.5412772', 'display_name': 'Laguna de TÃ©rminos, Carmen, Campeche, Mexico', 'class': 'tourism', 'type': 'attraction', 'importance': 0.30100000000000005}, {'place_id': 174184567, 'licence': 'Data Â© OpenStreetMap contributors, ODbL 1.0. https://osm.org/copyright', 'powered_by': 'Map Maker: https://maps.co', 'osm_type': 'way', 'osm_id': 298353851, 'boundingbox': ['24.0615094', '24.0616178', '-104.6320899', '-104.6320181'], 'lat': '24.0615666', 'lon': '-104.632058', 'display_name': 'Laguna de Terminos, Los Eucaliptos, Durango, Municipio de Durango, Durango, 34166, Mexico', 'class': 'highway', 'type': 'secondary', 'importance': 0.3}, {'place_id': 174351147, 'licence': 'Data Â© OpenStreetMap contributors, ODbL 1.0. https://osm.org/copyright', 'powered_by': 'Map Maker: https://maps.co', 'osm_type': 'way', 'osm_id': 298353844, 'boundingbox': ['24.0574567', '24.0613245', '-104.6318733', '-104.6296529'], 'lat': '24.0594784', 'lon': '-104.6308105', 'display_name': 'Laguna de Terminos, Privadas San Ignacio, Durango, Municipio de Durango, Durango, 34166, Mexico', 'class': 'highway', 'type': 'secondary', 'importance': 0.3}], path=Fields('Data'), context=DatumInContext(value={'Data': [{'place_id': 132180783, 'licence': 'Data Â© OpenStreetMap contributors, ODbL 1.0. https://osm.org/copyright', 'powered_by': 'Map Maker: https://maps.co', 'osm_type': 'way', 'osm_id': 128914583, 'boundingbox': ['25.650497', '25.6508742', '-100.3111142', '-100.3092118'], 'lat': '25.6505049', 'lon': '-100.3100514', 'display_name': 'Laguna de TÃ©rminos, Arturo B de la Garza, Monterrey, Nuevo LeÃ³n, 64700, Mexico', 'class': 'highway', 'type': 'residential', 'importance': 0.4}, {'place_id': 257940027, 'licence': 'Data Â© OpenStreetMap contributors, ODbL 1.0. https://osm.org/copyright', 'powered_by': 'Map Maker: https://maps.co', 'osm_type': 'way', 'osm_id': 800770558, 'boundingbox': ['25.6506844', '25.650711', '-100.3112724', '-100.3111142'], 'lat': '25.6506844', 'lon': '-100.3111142', 'display_name': 'Laguna de TÃ©rminos, Monterrey, Nuevo LeÃ³n, 64750, Mexico', 'class': 'highway', 'type': 'residential', 'importance': 0.4}, {'place_id': 131383095, 'licence': 'Data Â© OpenStreetMap contributors, ODbL 1.0. https://osm.org/copyright', 'powered_by': 'Map Maker: https://maps.co', 'osm_type': 'way', 'osm_id': 124126856, 'boundingbox': ['25.7224653', '25.7248376', '-100.2466767', '-100.2445865'], 'lat': '25.7234336', 'lon': '-100.2455659', 'display_name': 'Laguna de TÃ©rminos, Costa del Sol 1Â° sec, San NicolÃ¡s de los Garza, Nuevo LeÃ³n, 66490, Mexico', 'class': 'highway', 'type': 'residential', 'importance': 0.4}, {'place_id': 246750190, 'licence': 'Data Â© OpenStreetMap contributors, ODbL 1.0. https://osm.org/copyright', 'powered_by': 'Map Maker: https://maps.co', 'osm_type': 'way', 'osm_id': 733371831, 'boundingbox': ['21.16671', '21.1670877', '-100.9256955', '-100.9256785'], 'lat': '21.16671', 'lon': '-100.9256955', 'display_name': 'Laguna de TÃ©rminos, Guanajuato, Dolores Hidalgo, Dolores Hidalgo Cuna de la Independencia Nacional, Guanajuato, 37803, Mexico', 'class': 'highway', 'type': 'residential', 'importance': 0.4}, {'place_id': 239281451, 'licence': 'Data Â© OpenStreetMap contributors, ODbL 1.0. https://osm.org/copyright', 'powered_by': 'Map Maker: https://maps.co', 'osm_type': 'way', 'osm_id': 689197745, 'boundingbox': ['21.1625369', '21.1645179', '-100.922902', '-100.918707'], 'lat': '21.1636984', 'lon': '-100.920834', 'display_name': 'Laguna de TÃ©rminos, Las Arboledas, Dolores Hidalgo, Dolores Hidalgo Cuna de la Independencia Nacional, Guanajuato, 37803, Mexico', 'class': 'highway', 'type': 'residential', 'importance': 0.4}, {'place_id': 247973946, 'licence': 'Data Â© OpenStreetMap contributors, ODbL 1.0. https://osm.org/copyright', 'powered_by': 'Map Maker: https://maps.co', 'osm_type': 'way', 'osm_id': 733371830, 'boundingbox': ['21.165815', '21.16671', '-100.925699', '-100.9256955'], 'lat': '21.16671', 'lon': '-100.9256955', 'display_name': 'Laguna de TÃ©rminos, Guanajuato, Dolores Hidalgo, Dolores Hidalgo Cuna de la Independencia Nacional, Guanajuato, 37803, Mexico', 'class': 'highway', 'type': 'track', 'importance': 0.4}, {'place_id': 203042553, 'licence': 'Data Â© OpenStreetMap contributors, ODbL 1.0. https://osm.org/copyright', 'powered_by': 'Map Maker: https://maps.co', 'osm_type': 'way', 'osm_id': 455839997, 'boundingbox': ['19.4419543', '19.4447682', '-99.1917602', '-99.171099'], 'lat': '19.4434105', 'lon': '-99.1819631', 'display_name': 'Laguna de TÃ©rminos, Colonia Lago Sur, Miguel Hidalgo, Mexico City, 11320, Mexico', 'class': 'highway', 'type': 'cycleway', 'importance': 0.375}, {'place_id': 60033371, 'licence': 'Data Â© OpenStreetMap contributors, ODbL 1.0. https://osm.org/copyright', 'powered_by': 'Map Maker: https://maps.co', 'osm_type': 'node', 'osm_id': 5362118921, 'boundingbox': ['18.6398082', '18.6399082', '-91.5413272', '-91.5412272'], 'lat': '18.6398582', 'lon': '-91.5412772', 'display_name': 'Laguna de TÃ©rminos, Carmen, Campeche, Mexico', 'class': 'tourism', 'type': 'attraction', 'importance': 0.30100000000000005}, {'place_id': 174184567, 'licence': 'Data Â© OpenStreetMap contributors, ODbL 1.0. https://osm.org/copyright', 'powered_by': 'Map Maker: https://maps.co', 'osm_type': 'way', 'osm_id': 298353851, 'boundingbox': ['24.0615094', '24.0616178', '-104.6320899', '-104.6320181'], 'lat': '24.0615666', 'lon': '-104.632058', 'display_name': 'Laguna de Terminos, Los Eucaliptos, Durango, Municipio de Durango, Durango, 34166, Mexico', 'class': 'highway', 'type': 'secondary', 'importance': 0.3}, {'place_id': 174351147, 'licence': 'Data Â© OpenStreetMap contributors, ODbL 1.0. https://osm.org/copyright', 'powered_by': 'Map Maker: https://maps.co', 'osm_type': 'way', 'osm_id': 298353844, 'boundingbox': ['24.0574567', '24.0613245', '-104.6318733', '-104.6296529'], 'lat': '24.0594784', 'lon': '-104.6308105', 'display_name': 'Laguna de Terminos, Privadas San Ignacio, Durango, Municipio de Durango, Durango, 34166, Mexico', 'class': 'highway', 'type': 'secondary', 'importance': 0.3}]}, path=Root(), context=None))), DatumInContext(value={'place_id': 247973946, 'licence': 'Data Â© OpenStreetMap contributors, ODbL 1.0. https://osm.org/copyright', 'powered_by': 'Map Maker: https://maps.co', 'osm_type': 'way', 'osm_id': 733371830, 'boundingbox': ['21.165815', '21.16671', '-100.925699', '-100.9256955'], 'lat': '21.16671', 'lon': '-100.9256955', 'display_name': 'Laguna de TÃ©rminos, Guanajuato, Dolores Hidalgo, Dolores Hidalgo Cuna de la Independencia Nacional, Guanajuato, 37803, Mexico', 'class': 'highway', 'type': 'track', 'importance': 0.4}, path=Index(index=5), context=DatumInContext(value=[{'place_id': 132180783, 'licence': 'Data Â© OpenStreetMap contributors, ODbL 1.0. https://osm.org/copyright', 'powered_by': 'Map Maker: https://maps.co', 'osm_type': 'way', 'osm_id': 128914583, 'boundingbox': ['25.650497', '25.6508742', '-100.3111142', '-100.3092118'], 'lat': '25.6505049', 'lon': '-100.3100514', 'display_name': 'Laguna de TÃ©rminos, Arturo B de la Garza, Monterrey, Nuevo LeÃ³n, 64700, Mexico', 'class': 'highway', 'type': 'residential', 'importance': 0.4}, {'place_id': 257940027, 'licence': 'Data Â© OpenStreetMap contributors, ODbL 1.0. https://osm.org/copyright', 'powered_by': 'Map Maker: https://maps.co', 'osm_type': 'way', 'osm_id': 800770558, 'boundingbox': ['25.6506844', '25.650711', '-100.3112724', '-100.3111142'], 'lat': '25.6506844', 'lon': '-100.3111142', 'display_name': 'Laguna de TÃ©rminos, Monterrey, Nuevo LeÃ³n, 64750, Mexico', 'class': 'highway', 'type': 'residential', 'importance': 0.4}, {'place_id': 131383095, 'licence': 'Data Â© OpenStreetMap contributors, ODbL 1.0. https://osm.org/copyright', 'powered_by': 'Map Maker: https://maps.co', 'osm_type': 'way', 'osm_id': 124126856, 'boundingbox': ['25.7224653', '25.7248376', '-100.2466767', '-100.2445865'], 'lat': '25.7234336', 'lon': '-100.2455659', 'display_name': 'Laguna de TÃ©rminos, Costa del Sol 1Â° sec, San NicolÃ¡s de los Garza, Nuevo LeÃ³n, 66490, Mexico', 'class': 'highway', 'type': 'residential', 'importance': 0.4}, {'place_id': 246750190, 'licence': 'Data Â© OpenStreetMap contributors, ODbL 1.0. https://osm.org/copyright', 'powered_by': 'Map Maker: https://maps.co', 'osm_type': 'way', 'osm_id': 733371831, 'boundingbox': ['21.16671', '21.1670877', '-100.9256955', '-100.9256785'], 'lat': '21.16671', 'lon': '-100.9256955', 'display_name': 'Laguna de TÃ©rminos, Guanajuato, Dolores Hidalgo, Dolores Hidalgo Cuna de la Independencia Nacional, Guanajuato, 37803, Mexico', 'class': 'highway', 'type': 'residential', 'importance': 0.4}, {'place_id': 239281451, 'licence': 'Data Â© OpenStreetMap contributors, ODbL 1.0. https://osm.org/copyright', 'powered_by': 'Map Maker: https://maps.co', 'osm_type': 'way', 'osm_id': 689197745, 'boundingbox': ['21.1625369', '21.1645179', '-100.922902', '-100.918707'], 'lat': '21.1636984', 'lon': '-100.920834', 'display_name': 'Laguna de TÃ©rminos, Las Arboledas, Dolores Hidalgo, Dolores Hidalgo Cuna de la Independencia Nacional, Guanajuato, 37803, Mexico', 'class': 'highway', 'type': 'residential', 'importance': 0.4}, {'place_id': 247973946, 'licence': 'Data Â© OpenStreetMap contributors, ODbL 1.0. https://osm.org/copyright', 'powered_by': 'Map Maker: https://maps.co', 'osm_type': 'way', 'osm_id': 733371830, 'boundingbox': ['21.165815', '21.16671', '-100.925699', '-100.9256955'], 'lat': '21.16671', 'lon': '-100.9256955', 'display_name': 'Laguna de TÃ©rminos, Guanajuato, Dolores Hidalgo, Dolores Hidalgo Cuna de la Independencia Nacional, Guanajuato, 37803, Mexico', 'class': 'highway', 'type': 'track', 'importance': 0.4}, {'place_id': 203042553, 'licence': 'Data Â© OpenStreetMap contributors, ODbL 1.0. https://osm.org/copyright', 'powered_by': 'Map Maker: https://maps.co', 'osm_type': 'way', 'osm_id': 455839997, 'boundingbox': ['19.4419543', '19.4447682', '-99.1917602', '-99.171099'], 'lat': '19.4434105', 'lon': '-99.1819631', 'display_name': 'Laguna de TÃ©rminos, Colonia Lago Sur, Miguel Hidalgo, Mexico City, 11320, Mexico', 'class': 'highway', 'type': 'cycleway', 'importance': 0.375}, {'place_id': 60033371, 'licence': 'Data Â© OpenStreetMap contributors, ODbL 1.0. https://osm.org/copyright', 'powered_by': 'Map Maker: https://maps.co', 'osm_type': 'node', 'osm_id': 5362118921, 'boundingbox': ['18.6398082', '18.6399082', '-91.5413272', '-91.5412272'], 'lat': '18.6398582', 'lon': '-91.5412772', 'display_name': 'Laguna de TÃ©rminos, Carmen, Campeche, Mexico', 'class': 'tourism', 'type': 'attraction', 'importance': 0.30100000000000005}, {'place_id': 174184567, 'licence': 'Data Â© OpenStreetMap contributors, ODbL 1.0. https://osm.org/copyright', 'powered_by': 'Map Maker: https://maps.co', 'osm_type': 'way', 'osm_id': 298353851, 'boundingbox': ['24.0615094', '24.0616178', '-104.6320899', '-104.6320181'], 'lat': '24.0615666', 'lon': '-104.632058', 'display_name': 'Laguna de Terminos, Los Eucaliptos, Durango, Municipio de Durango, Durango, 34166, Mexico', 'class': 'highway', 'type': 'secondary', 'importance': 0.3}, {'place_id': 174351147, 'licence': 'Data Â© OpenStreetMap contributors, ODbL 1.0. https://osm.org/copyright', 'powered_by': 'Map Maker: https://maps.co', 'osm_type': 'way', 'osm_id': 298353844, 'boundingbox': ['24.0574567', '24.0613245', '-104.6318733', '-104.6296529'], 'lat': '24.0594784', 'lon': '-104.6308105', 'display_name': 'Laguna de Terminos, Privadas San Ignacio, Durango, Municipio de Durango, Durango, 34166, Mexico', 'class': 'highway', 'type': 'secondary', 'importance': 0.3}], path=Fields('Data'), context=DatumInContext(value={'Data': [{'place_id': 132180783, 'licence': 'Data Â© OpenStreetMap contributors, ODbL 1.0. https://osm.org/copyright', 'powered_by': 'Map Maker: https://maps.co', 'osm_type': 'way', 'osm_id': 128914583, 'boundingbox': ['25.650497', '25.6508742', '-100.3111142', '-100.3092118'], 'lat': '25.6505049', 'lon': '-100.3100514', 'display_name': 'Laguna de TÃ©rminos, Arturo B de la Garza, Monterrey, Nuevo LeÃ³n, 64700, Mexico', 'class': 'highway', 'type': 'residential', 'importance': 0.4}, {'place_id': 257940027, 'licence': 'Data Â© OpenStreetMap contributors, ODbL 1.0. https://osm.org/copyright', 'powered_by': 'Map Maker: https://maps.co', 'osm_type': 'way', 'osm_id': 800770558, 'boundingbox': ['25.6506844', '25.650711', '-100.3112724', '-100.3111142'], 'lat': '25.6506844', 'lon': '-100.3111142', 'display_name': 'Laguna de TÃ©rminos, Monterrey, Nuevo LeÃ³n, 64750, Mexico', 'class': 'highway', 'type': 'residential', 'importance': 0.4}, {'place_id': 131383095, 'licence': 'Data Â© OpenStreetMap contributors, ODbL 1.0. https://osm.org/copyright', 'powered_by': 'Map Maker: https://maps.co', 'osm_type': 'way', 'osm_id': 124126856, 'boundingbox': ['25.7224653', '25.7248376', '-100.2466767', '-100.2445865'], 'lat': '25.7234336', 'lon': '-100.2455659', 'display_name': 'Laguna de TÃ©rminos, Costa del Sol 1Â° sec, San NicolÃ¡s de los Garza, Nuevo LeÃ³n, 66490, Mexico', 'class': 'highway', 'type': 'residential', 'importance': 0.4}, {'place_id': 246750190, 'licence': 'Data Â© OpenStreetMap contributors, ODbL 1.0. https://osm.org/copyright', 'powered_by': 'Map Maker: https://maps.co', 'osm_type': 'way', 'osm_id': 733371831, 'boundingbox': ['21.16671', '21.1670877', '-100.9256955', '-100.9256785'], 'lat': '21.16671', 'lon': '-100.9256955', 'display_name': 'Laguna de TÃ©rminos, Guanajuato, Dolores Hidalgo, Dolores Hidalgo Cuna de la Independencia Nacional, Guanajuato, 37803, Mexico', 'class': 'highway', 'type': 'residential', 'importance': 0.4}, {'place_id': 239281451, 'licence': 'Data Â© OpenStreetMap contributors, ODbL 1.0. https://osm.org/copyright', 'powered_by': 'Map Maker: https://maps.co', 'osm_type': 'way', 'osm_id': 689197745, 'boundingbox': ['21.1625369', '21.1645179', '-100.922902', '-100.918707'], 'lat': '21.1636984', 'lon': '-100.920834', 'display_name': 'Laguna de TÃ©rminos, Las Arboledas, Dolores Hidalgo, Dolores Hidalgo Cuna de la Independencia Nacional, Guanajuato, 37803, Mexico', 'class': 'highway', 'type': 'residential', 'importance': 0.4}, {'place_id': 247973946, 'licence': 'Data Â© OpenStreetMap contributors, ODbL 1.0. https://osm.org/copyright', 'powered_by': 'Map Maker: https://maps.co', 'osm_type': 'way', 'osm_id': 733371830, 'boundingbox': ['21.165815', '21.16671', '-100.925699', '-100.9256955'], 'lat': '21.16671', 'lon': '-100.9256955', 'display_name': 'Laguna de TÃ©rminos, Guanajuato, Dolores Hidalgo, Dolores Hidalgo Cuna de la Independencia Nacional, Guanajuato, 37803, Mexico', 'class': 'highway', 'type': 'track', 'importance': 0.4}, {'place_id': 203042553, 'licence': 'Data Â© OpenStreetMap contributors, ODbL 1.0. https://osm.org/copyright', 'powered_by': 'Map Maker: https://maps.co', 'osm_type': 'way', 'osm_id': 455839997, 'boundingbox': ['19.4419543', '19.4447682', '-99.1917602', '-99.171099'], 'lat': '19.4434105', 'lon': '-99.1819631', 'display_name': 'Laguna de TÃ©rminos, Colonia Lago Sur, Miguel Hidalgo, Mexico City, 11320, Mexico', 'class': 'highway', 'type': 'cycleway', 'importance': 0.375}, {'place_id': 60033371, 'licence': 'Data Â© OpenStreetMap contributors, ODbL 1.0. https://osm.org/copyright', 'powered_by': 'Map Maker: https://maps.co', 'osm_type': 'node', 'osm_id': 5362118921, 'boundingbox': ['18.6398082', '18.6399082', '-91.5413272', '-91.5412272'], 'lat': '18.6398582', 'lon': '-91.5412772', 'display_name': 'Laguna de TÃ©rminos, Carmen, Campeche, Mexico', 'class': 'tourism', 'type': 'attraction', 'importance': 0.30100000000000005}, {'place_id': 174184567, 'licence': 'Data Â© OpenStreetMap contributors, ODbL 1.0. https://osm.org/copyright', 'powered_by': 'Map Maker: https://maps.co', 'osm_type': 'way', 'osm_id': 298353851, 'boundingbox': ['24.0615094', '24.0616178', '-104.6320899', '-104.6320181'], 'lat': '24.0615666', 'lon': '-104.632058', 'display_name': 'Laguna de Terminos, Los Eucaliptos, Durango, Municipio de Durango, Durango, 34166, Mexico', 'class': 'highway', 'type': 'secondary', 'importance': 0.3}, {'place_id': 174351147, 'licence': 'Data Â© OpenStreetMap contributors, ODbL 1.0. https://osm.org/copyright', 'powered_by': 'Map Maker: https://maps.co', 'osm_type': 'way', 'osm_id': 298353844, 'boundingbox': ['24.0574567', '24.0613245', '-104.6318733', '-104.6296529'], 'lat': '24.0594784', 'lon': '-104.6308105', 'display_name': 'Laguna de Terminos, Privadas San Ignacio, Durango, Municipio de Durango, Durango, 34166, Mexico', 'class': 'highway', 'type': 'secondary', 'importance': 0.3}]}, path=Root(), context=None))), DatumInContext(value={'place_id': 203042553, 'licence': 'Data Â© OpenStreetMap contributors, ODbL 1.0. https://osm.org/copyright', 'powered_by': 'Map Maker: https://maps.co', 'osm_type': 'way', 'osm_id': 455839997, 'boundingbox': ['19.4419543', '19.4447682', '-99.1917602', '-99.171099'], 'lat': '19.4434105', 'lon': '-99.1819631', 'display_name': 'Laguna de TÃ©rminos, Colonia Lago Sur, Miguel Hidalgo, Mexico City, 11320, Mexico', 'class': 'highway', 'type': 'cycleway', 'importance': 0.375}, path=Index(index=6), context=DatumInContext(value=[{'place_id': 132180783, 'licence': 'Data Â© OpenStreetMap contributors, ODbL 1.0. https://osm.org/copyright', 'powered_by': 'Map Maker: https://maps.co', 'osm_type': 'way', 'osm_id': 128914583, 'boundingbox': ['25.650497', '25.6508742', '-100.3111142', '-100.3092118'], 'lat': '25.6505049', 'lon': '-100.3100514', 'display_name': 'Laguna de TÃ©rminos, Arturo B de la Garza, Monterrey, Nuevo LeÃ³n, 64700, Mexico', 'class': 'highway', 'type': 'residential', 'importance': 0.4}, {'place_id': 257940027, 'licence': 'Data Â© OpenStreetMap contributors, ODbL 1.0. https://osm.org/copyright', 'powered_by': 'Map Maker: https://maps.co', 'osm_type': 'way', 'osm_id': 800770558, 'boundingbox': ['25.6506844', '25.650711', '-100.3112724', '-100.3111142'], 'lat': '25.6506844', 'lon': '-100.3111142', 'display_name': 'Laguna de TÃ©rminos, Monterrey, Nuevo LeÃ³n, 64750, Mexico', 'class': 'highway', 'type': 'residential', 'importance': 0.4}, {'place_id': 131383095, 'licence': 'Data Â© OpenStreetMap contributors, ODbL 1.0. https://osm.org/copyright', 'powered_by': 'Map Maker: https://maps.co', 'osm_type': 'way', 'osm_id': 124126856, 'boundingbox': ['25.7224653', '25.7248376', '-100.2466767', '-100.2445865'], 'lat': '25.7234336', 'lon': '-100.2455659', 'display_name': 'Laguna de TÃ©rminos, Costa del Sol 1Â° sec, San NicolÃ¡s de los Garza, Nuevo LeÃ³n, 66490, Mexico', 'class': 'highway', 'type': 'residential', 'importance': 0.4}, {'place_id': 246750190, 'licence': 'Data Â© OpenStreetMap contributors, ODbL 1.0. https://osm.org/copyright', 'powered_by': 'Map Maker: https://maps.co', 'osm_type': 'way', 'osm_id': 733371831, 'boundingbox': ['21.16671', '21.1670877', '-100.9256955', '-100.9256785'], 'lat': '21.16671', 'lon': '-100.9256955', 'display_name': 'Laguna de TÃ©rminos, Guanajuato, Dolores Hidalgo, Dolores Hidalgo Cuna de la Independencia Nacional, Guanajuato, 37803, Mexico', 'class': 'highway', 'type': 'residential', 'importance': 0.4}, {'place_id': 239281451, 'licence': 'Data Â© OpenStreetMap contributors, ODbL 1.0. https://osm.org/copyright', 'powered_by': 'Map Maker: https://maps.co', 'osm_type': 'way', 'osm_id': 689197745, 'boundingbox': ['21.1625369', '21.1645179', '-100.922902', '-100.918707'], 'lat': '21.1636984', 'lon': '-100.920834', 'display_name': 'Laguna de TÃ©rminos, Las Arboledas, Dolores Hidalgo, Dolores Hidalgo Cuna de la Independencia Nacional, Guanajuato, 37803, Mexico', 'class': 'highway', 'type': 'residential', 'importance': 0.4}, {'place_id': 247973946, 'licence': 'Data Â© OpenStreetMap contributors, ODbL 1.0. https://osm.org/copyright', 'powered_by': 'Map Maker: https://maps.co', 'osm_type': 'way', 'osm_id': 733371830, 'boundingbox': ['21.165815', '21.16671', '-100.925699', '-100.9256955'], 'lat': '21.16671', 'lon': '-100.9256955', 'display_name': 'Laguna de TÃ©rminos, Guanajuato, Dolores Hidalgo, Dolores Hidalgo Cuna de la Independencia Nacional, Guanajuato, 37803, Mexico', 'class': 'highway', 'type': 'track', 'importance': 0.4}, {'place_id': 203042553, 'licence': 'Data Â© OpenStreetMap contributors, ODbL 1.0. https://osm.org/copyright', 'powered_by': 'Map Maker: https://maps.co', 'osm_type': 'way', 'osm_id': 455839997, 'boundingbox': ['19.4419543', '19.4447682', '-99.1917602', '-99.171099'], 'lat': '19.4434105', 'lon': '-99.1819631', 'display_name': 'Laguna de TÃ©rminos, Colonia Lago Sur, Miguel Hidalgo, Mexico City, 11320, Mexico', 'class': 'highway', 'type': 'cycleway', 'importance': 0.375}, {'place_id': 60033371, 'licence': 'Data Â© OpenStreetMap contributors, ODbL 1.0. https://osm.org/copyright', 'powered_by': 'Map Maker: https://maps.co', 'osm_type': 'node', 'osm_id': 5362118921, 'boundingbox': ['18.6398082', '18.6399082', '-91.5413272', '-91.5412272'], 'lat': '18.6398582', 'lon': '-91.5412772', 'display_name': 'Laguna de TÃ©rminos, Carmen, Campeche, Mexico', 'class': 'tourism', 'type': 'attraction', 'importance': 0.30100000000000005}, {'place_id': 174184567, 'licence': 'Data Â© OpenStreetMap contributors, ODbL 1.0. https://osm.org/copyright', 'powered_by': 'Map Maker: https://maps.co', 'osm_type': 'way', 'osm_id': 298353851, 'boundingbox': ['24.0615094', '24.0616178', '-104.6320899', '-104.6320181'], 'lat': '24.0615666', 'lon': '-104.632058', 'display_name': 'Laguna de Terminos, Los Eucaliptos, Durango, Municipio de Durango, Durango, 34166, Mexico', 'class': 'highway', 'type': 'secondary', 'importance': 0.3}, {'place_id': 174351147, 'licence': 'Data Â© OpenStreetMap contributors, ODbL 1.0. https://osm.org/copyright', 'powered_by': 'Map Maker: https://maps.co', 'osm_type': 'way', 'osm_id': 298353844, 'boundingbox': ['24.0574567', '24.0613245', '-104.6318733', '-104.6296529'], 'lat': '24.0594784', 'lon': '-104.6308105', 'display_name': 'Laguna de Terminos, Privadas San Ignacio, Durango, Municipio de Durango, Durango, 34166, Mexico', 'class': 'highway', 'type': 'secondary', 'importance': 0.3}], path=Fields('Data'), context=DatumInContext(value={'Data': [{'place_id': 132180783, 'licence': 'Data Â© OpenStreetMap contributors, ODbL 1.0. https://osm.org/copyright', 'powered_by': 'Map Maker: https://maps.co', 'osm_type': 'way', 'osm_id': 128914583, 'boundingbox': ['25.650497', '25.6508742', '-100.3111142', '-100.3092118'], 'lat': '25.6505049', 'lon': '-100.3100514', 'display_name': 'Laguna de TÃ©rminos, Arturo B de la Garza, Monterrey, Nuevo LeÃ³n, 64700, Mexico', 'class': 'highway', 'type': 'residential', 'importance': 0.4}, {'place_id': 257940027, 'licence': 'Data Â© OpenStreetMap contributors, ODbL 1.0. https://osm.org/copyright', 'powered_by': 'Map Maker: https://maps.co', 'osm_type': 'way', 'osm_id': 800770558, 'boundingbox': ['25.6506844', '25.650711', '-100.3112724', '-100.3111142'], 'lat': '25.6506844', 'lon': '-100.3111142', 'display_name': 'Laguna de TÃ©rminos, Monterrey, Nuevo LeÃ³n, 64750, Mexico', 'class': 'highway', 'type': 'residential', 'importance': 0.4}, {'place_id': 131383095, 'licence': 'Data Â© OpenStreetMap contributors, ODbL 1.0. https://osm.org/copyright', 'powered_by': 'Map Maker: https://maps.co', 'osm_type': 'way', 'osm_id': 124126856, 'boundingbox': ['25.7224653', '25.7248376', '-100.2466767', '-100.2445865'], 'lat': '25.7234336', 'lon': '-100.2455659', 'display_name': 'Laguna de TÃ©rminos, Costa del Sol 1Â° sec, San NicolÃ¡s de los Garza, Nuevo LeÃ³n, 66490, Mexico', 'class': 'highway', 'type': 'residential', 'importance': 0.4}, {'place_id': 246750190, 'licence': 'Data Â© OpenStreetMap contributors, ODbL 1.0. https://osm.org/copyright', 'powered_by': 'Map Maker: https://maps.co', 'osm_type': 'way', 'osm_id': 733371831, 'boundingbox': ['21.16671', '21.1670877', '-100.9256955', '-100.9256785'], 'lat': '21.16671', 'lon': '-100.9256955', 'display_name': 'Laguna de TÃ©rminos, Guanajuato, Dolores Hidalgo, Dolores Hidalgo Cuna de la Independencia Nacional, Guanajuato, 37803, Mexico', 'class': 'highway', 'type': 'residential', 'importance': 0.4}, {'place_id': 239281451, 'licence': 'Data Â© OpenStreetMap contributors, ODbL 1.0. https://osm.org/copyright', 'powered_by': 'Map Maker: https://maps.co', 'osm_type': 'way', 'osm_id': 689197745, 'boundingbox': ['21.1625369', '21.1645179', '-100.922902', '-100.918707'], 'lat': '21.1636984', 'lon': '-100.920834', 'display_name': 'Laguna de TÃ©rminos, Las Arboledas, Dolores Hidalgo, Dolores Hidalgo Cuna de la Independencia Nacional, Guanajuato, 37803, Mexico', 'class': 'highway', 'type': 'residential', 'importance': 0.4}, {'place_id': 247973946, 'licence': 'Data Â© OpenStreetMap contributors, ODbL 1.0. https://osm.org/copyright', 'powered_by': 'Map Maker: https://maps.co', 'osm_type': 'way', 'osm_id': 733371830, 'boundingbox': ['21.165815', '21.16671', '-100.925699', '-100.9256955'], 'lat': '21.16671', 'lon': '-100.9256955', 'display_name': 'Laguna de TÃ©rminos, Guanajuato, Dolores Hidalgo, Dolores Hidalgo Cuna de la Independencia Nacional, Guanajuato, 37803, Mexico', 'class': 'highway', 'type': 'track', 'importance': 0.4}, {'place_id': 203042553, 'licence': 'Data Â© OpenStreetMap contributors, ODbL 1.0. https://osm.org/copyright', 'powered_by': 'Map Maker: https://maps.co', 'osm_type': 'way', 'osm_id': 455839997, 'boundingbox': ['19.4419543', '19.4447682', '-99.1917602', '-99.171099'], 'lat': '19.4434105', 'lon': '-99.1819631', 'display_name': 'Laguna de TÃ©rminos, Colonia Lago Sur, Miguel Hidalgo, Mexico City, 11320, Mexico', 'class': 'highway', 'type': 'cycleway', 'importance': 0.375}, {'place_id': 60033371, 'licence': 'Data Â© OpenStreetMap contributors, ODbL 1.0. https://osm.org/copyright', 'powered_by': 'Map Maker: https://maps.co', 'osm_type': 'node', 'osm_id': 5362118921, 'boundingbox': ['18.6398082', '18.6399082', '-91.5413272', '-91.5412272'], 'lat': '18.6398582', 'lon': '-91.5412772', 'display_name': 'Laguna de TÃ©rminos, Carmen, Campeche, Mexico', 'class': 'tourism', 'type': 'attraction', 'importance': 0.30100000000000005}, {'place_id': 174184567, 'licence': 'Data Â© OpenStreetMap contributors, ODbL 1.0. https://osm.org/copyright', 'powered_by': 'Map Maker: https://maps.co', 'osm_type': 'way', 'osm_id': 298353851, 'boundingbox': ['24.0615094', '24.0616178', '-104.6320899', '-104.6320181'], 'lat': '24.0615666', 'lon': '-104.632058', 'display_name': 'Laguna de Terminos, Los Eucaliptos, Durango, Municipio de Durango, Durango, 34166, Mexico', 'class': 'highway', 'type': 'secondary', 'importance': 0.3}, {'place_id': 174351147, 'licence': 'Data Â© OpenStreetMap contributors, ODbL 1.0. https://osm.org/copyright', 'powered_by': 'Map Maker: https://maps.co', 'osm_type': 'way', 'osm_id': 298353844, 'boundingbox': ['24.0574567', '24.0613245', '-104.6318733', '-104.6296529'], 'lat': '24.0594784', 'lon': '-104.6308105', 'display_name': 'Laguna de Terminos, Privadas San Ignacio, Durango, Municipio de Durango, Durango, 34166, Mexico', 'class': 'highway', 'type': 'secondary', 'importance': 0.3}]}, path=Root(), context=None))), DatumInContext(value={'place_id': 60033371, 'licence': 'Data Â© OpenStreetMap contributors, ODbL 1.0. https://osm.org/copyright', 'powered_by': 'Map Maker: https://maps.co', 'osm_type': 'node', 'osm_id': 5362118921, 'boundingbox': ['18.6398082', '18.6399082', '-91.5413272', '-91.5412272'], 'lat': '18.6398582', 'lon': '-91.5412772', 'display_name': 'Laguna de TÃ©rminos, Carmen, Campeche, Mexico', 'class': 'tourism', 'type': 'attraction', 'importance': 0.30100000000000005}, path=Index(index=7), context=DatumInContext(value=[{'place_id': 132180783, 'licence': 'Data Â© OpenStreetMap contributors, ODbL 1.0. https://osm.org/copyright', 'powered_by': 'Map Maker: https://maps.co', 'osm_type': 'way', 'osm_id': 128914583, 'boundingbox': ['25.650497', '25.6508742', '-100.3111142', '-100.3092118'], 'lat': '25.6505049', 'lon': '-100.3100514', 'display_name': 'Laguna de TÃ©rminos, Arturo B de la Garza, Monterrey, Nuevo LeÃ³n, 64700, Mexico', 'class': 'highway', 'type': 'residential', 'importance': 0.4}, {'place_id': 257940027, 'licence': 'Data Â© OpenStreetMap contributors, ODbL 1.0. https://osm.org/copyright', 'powered_by': 'Map Maker: https://maps.co', 'osm_type': 'way', 'osm_id': 800770558, 'boundingbox': ['25.6506844', '25.650711', '-100.3112724', '-100.3111142'], 'lat': '25.6506844', 'lon': '-100.3111142', 'display_name': 'Laguna de TÃ©rminos, Monterrey, Nuevo LeÃ³n, 64750, Mexico', 'class': 'highway', 'type': 'residential', 'importance': 0.4}, {'place_id': 131383095, 'licence': 'Data Â© OpenStreetMap contributors, ODbL 1.0. https://osm.org/copyright', 'powered_by': 'Map Maker: https://maps.co', 'osm_type': 'way', 'osm_id': 124126856, 'boundingbox': ['25.7224653', '25.7248376', '-100.2466767', '-100.2445865'], 'lat': '25.7234336', 'lon': '-100.2455659', 'display_name': 'Laguna de TÃ©rminos, Costa del Sol 1Â° sec, San NicolÃ¡s de los Garza, Nuevo LeÃ³n, 66490, Mexico', 'class': 'highway', 'type': 'residential', 'importance': 0.4}, {'place_id': 246750190, 'licence': 'Data Â© OpenStreetMap contributors, ODbL 1.0. https://osm.org/copyright', 'powered_by': 'Map Maker: https://maps.co', 'osm_type': 'way', 'osm_id': 733371831, 'boundingbox': ['21.16671', '21.1670877', '-100.9256955', '-100.9256785'], 'lat': '21.16671', 'lon': '-100.9256955', 'display_name': 'Laguna de TÃ©rminos, Guanajuato, Dolores Hidalgo, Dolores Hidalgo Cuna de la Independencia Nacional, Guanajuato, 37803, Mexico', 'class': 'highway', 'type': 'residential', 'importance': 0.4}, {'place_id': 239281451, 'licence': 'Data Â© OpenStreetMap contributors, ODbL 1.0. https://osm.org/copyright', 'powered_by': 'Map Maker: https://maps.co', 'osm_type': 'way', 'osm_id': 689197745, 'boundingbox': ['21.1625369', '21.1645179', '-100.922902', '-100.918707'], 'lat': '21.1636984', 'lon': '-100.920834', 'display_name': 'Laguna de TÃ©rminos, Las Arboledas, Dolores Hidalgo, Dolores Hidalgo Cuna de la Independencia Nacional, Guanajuato, 37803, Mexico', 'class': 'highway', 'type': 'residential', 'importance': 0.4}, {'place_id': 247973946, 'licence': 'Data Â© OpenStreetMap contributors, ODbL 1.0. https://osm.org/copyright', 'powered_by': 'Map Maker: https://maps.co', 'osm_type': 'way', 'osm_id': 733371830, 'boundingbox': ['21.165815', '21.16671', '-100.925699', '-100.9256955'], 'lat': '21.16671', 'lon': '-100.9256955', 'display_name': 'Laguna de TÃ©rminos, Guanajuato, Dolores Hidalgo, Dolores Hidalgo Cuna de la Independencia Nacional, Guanajuato, 37803, Mexico', 'class': 'highway', 'type': 'track', 'importance': 0.4}, {'place_id': 203042553, 'licence': 'Data Â© OpenStreetMap contributors, ODbL 1.0. https://osm.org/copyright', 'powered_by': 'Map Maker: https://maps.co', 'osm_type': 'way', 'osm_id': 455839997, 'boundingbox': ['19.4419543', '19.4447682', '-99.1917602', '-99.171099'], 'lat': '19.4434105', 'lon': '-99.1819631', 'display_name': 'Laguna de TÃ©rminos, Colonia Lago Sur, Miguel Hidalgo, Mexico City, 11320, Mexico', 'class': 'highway', 'type': 'cycleway', 'importance': 0.375}, {'place_id': 60033371, 'licence': 'Data Â© OpenStreetMap contributors, ODbL 1.0. https://osm.org/copyright', 'powered_by': 'Map Maker: https://maps.co', 'osm_type': 'node', 'osm_id': 5362118921, 'boundingbox': ['18.6398082', '18.6399082', '-91.5413272', '-91.5412272'], 'lat': '18.6398582', 'lon': '-91.5412772', 'display_name': 'Laguna de TÃ©rminos, Carmen, Campeche, Mexico', 'class': 'tourism', 'type': 'attraction', 'importance': 0.30100000000000005}, {'place_id': 174184567, 'licence': 'Data Â© OpenStreetMap contributors, ODbL 1.0. https://osm.org/copyright', 'powered_by': 'Map Maker: https://maps.co', 'osm_type': 'way', 'osm_id': 298353851, 'boundingbox': ['24.0615094', '24.0616178', '-104.6320899', '-104.6320181'], 'lat': '24.0615666', 'lon': '-104.632058', 'display_name': 'Laguna de Terminos, Los Eucaliptos, Durango, Municipio de Durango, Durango, 34166, Mexico', 'class': 'highway', 'type': 'secondary', 'importance': 0.3}, {'place_id': 174351147, 'licence': 'Data Â© OpenStreetMap contributors, ODbL 1.0. https://osm.org/copyright', 'powered_by': 'Map Maker: https://maps.co', 'osm_type': 'way', 'osm_id': 298353844, 'boundingbox': ['24.0574567', '24.0613245', '-104.6318733', '-104.6296529'], 'lat': '24.0594784', 'lon': '-104.6308105', 'display_name': 'Laguna de Terminos, Privadas San Ignacio, Durango, Municipio de Durango, Durango, 34166, Mexico', 'class': 'highway', 'type': 'secondary', 'importance': 0.3}], path=Fields('Data'), context=DatumInContext(value={'Data': [{'place_id': 132180783, 'licence': 'Data Â© OpenStreetMap contributors, ODbL 1.0. https://osm.org/copyright', 'powered_by': 'Map Maker: https://maps.co', 'osm_type': 'way', 'osm_id': 128914583, 'boundingbox': ['25.650497', '25.6508742', '-100.3111142', '-100.3092118'], 'lat': '25.6505049', 'lon': '-100.3100514', 'display_name': 'Laguna de TÃ©rminos, Arturo B de la Garza, Monterrey, Nuevo LeÃ³n, 64700, Mexico', 'class': 'highway', 'type': 'residential', 'importance': 0.4}, {'place_id': 257940027, 'licence': 'Data Â© OpenStreetMap contributors, ODbL 1.0. https://osm.org/copyright', 'powered_by': 'Map Maker: https://maps.co', 'osm_type': 'way', 'osm_id': 800770558, 'boundingbox': ['25.6506844', '25.650711', '-100.3112724', '-100.3111142'], 'lat': '25.6506844', 'lon': '-100.3111142', 'display_name': 'Laguna de TÃ©rminos, Monterrey, Nuevo LeÃ³n, 64750, Mexico', 'class': 'highway', 'type': 'residential', 'importance': 0.4}, {'place_id': 131383095, 'licence': 'Data Â© OpenStreetMap contributors, ODbL 1.0. https://osm.org/copyright', 'powered_by': 'Map Maker: https://maps.co', 'osm_type': 'way', 'osm_id': 124126856, 'boundingbox': ['25.7224653', '25.7248376', '-100.2466767', '-100.2445865'], 'lat': '25.7234336', 'lon': '-100.2455659', 'display_name': 'Laguna de TÃ©rminos, Costa del Sol 1Â° sec, San NicolÃ¡s de los Garza, Nuevo LeÃ³n, 66490, Mexico', 'class': 'highway', 'type': 'residential', 'importance': 0.4}, {'place_id': 246750190, 'licence': 'Data Â© OpenStreetMap contributors, ODbL 1.0. https://osm.org/copyright', 'powered_by': 'Map Maker: https://maps.co', 'osm_type': 'way', 'osm_id': 733371831, 'boundingbox': ['21.16671', '21.1670877', '-100.9256955', '-100.9256785'], 'lat': '21.16671', 'lon': '-100.9256955', 'display_name': 'Laguna de TÃ©rminos, Guanajuato, Dolores Hidalgo, Dolores Hidalgo Cuna de la Independencia Nacional, Guanajuato, 37803, Mexico', 'class': 'highway', 'type': 'residential', 'importance': 0.4}, {'place_id': 239281451, 'licence': 'Data Â© OpenStreetMap contributors, ODbL 1.0. https://osm.org/copyright', 'powered_by': 'Map Maker: https://maps.co', 'osm_type': 'way', 'osm_id': 689197745, 'boundingbox': ['21.1625369', '21.1645179', '-100.922902', '-100.918707'], 'lat': '21.1636984', 'lon': '-100.920834', 'display_name': 'Laguna de TÃ©rminos, Las Arboledas, Dolores Hidalgo, Dolores Hidalgo Cuna de la Independencia Nacional, Guanajuato, 37803, Mexico', 'class': 'highway', 'type': 'residential', 'importance': 0.4}, {'place_id': 247973946, 'licence': 'Data Â© OpenStreetMap contributors, ODbL 1.0. https://osm.org/copyright', 'powered_by': 'Map Maker: https://maps.co', 'osm_type': 'way', 'osm_id': 733371830, 'boundingbox': ['21.165815', '21.16671', '-100.925699', '-100.9256955'], 'lat': '21.16671', 'lon': '-100.9256955', 'display_name': 'Laguna de TÃ©rminos, Guanajuato, Dolores Hidalgo, Dolores Hidalgo Cuna de la Independencia Nacional, Guanajuato, 37803, Mexico', 'class': 'highway', 'type': 'track', 'importance': 0.4}, {'place_id': 203042553, 'licence': 'Data Â© OpenStreetMap contributors, ODbL 1.0. https://osm.org/copyright', 'powered_by': 'Map Maker: https://maps.co', 'osm_type': 'way', 'osm_id': 455839997, 'boundingbox': ['19.4419543', '19.4447682', '-99.1917602', '-99.171099'], 'lat': '19.4434105', 'lon': '-99.1819631', 'display_name': 'Laguna de TÃ©rminos, Colonia Lago Sur, Miguel Hidalgo, Mexico City, 11320, Mexico', 'class': 'highway', 'type': 'cycleway', 'importance': 0.375}, {'place_id': 60033371, 'licence': 'Data Â© OpenStreetMap contributors, ODbL 1.0. https://osm.org/copyright', 'powered_by': 'Map Maker: https://maps.co', 'osm_type': 'node', 'osm_id': 5362118921, 'boundingbox': ['18.6398082', '18.6399082', '-91.5413272', '-91.5412272'], 'lat': '18.6398582', 'lon': '-91.5412772', 'display_name': 'Laguna de TÃ©rminos, Carmen, Campeche, Mexico', 'class': 'tourism', 'type': 'attraction', 'importance': 0.30100000000000005}, {'place_id': 174184567, 'licence': 'Data Â© OpenStreetMap contributors, ODbL 1.0. https://osm.org/copyright', 'powered_by': 'Map Maker: https://maps.co', 'osm_type': 'way', 'osm_id': 298353851, 'boundingbox': ['24.0615094', '24.0616178', '-104.6320899', '-104.6320181'], 'lat': '24.0615666', 'lon': '-104.632058', 'display_name': 'Laguna de Terminos, Los Eucaliptos, Durango, Municipio de Durango, Durango, 34166, Mexico', 'class': 'highway', 'type': 'secondary', 'importance': 0.3}, {'place_id': 174351147, 'licence': 'Data Â© OpenStreetMap contributors, ODbL 1.0. https://osm.org/copyright', 'powered_by': 'Map Maker: https://maps.co', 'osm_type': 'way', 'osm_id': 298353844, 'boundingbox': ['24.0574567', '24.0613245', '-104.6318733', '-104.6296529'], 'lat': '24.0594784', 'lon': '-104.6308105', 'display_name': 'Laguna de Terminos, Privadas San Ignacio, Durango, Municipio de Durango, Durango, 34166, Mexico', 'class': 'highway', 'type': 'secondary', 'importance': 0.3}]}, path=Root(), context=None))), DatumInContext(value={'place_id': 174184567, 'licence': 'Data Â© OpenStreetMap contributors, ODbL 1.0. https://osm.org/copyright', 'powered_by': 'Map Maker: https://maps.co', 'osm_type': 'way', 'osm_id': 298353851, 'boundingbox': ['24.0615094', '24.0616178', '-104.6320899', '-104.6320181'], 'lat': '24.0615666', 'lon': '-104.632058', 'display_name': 'Laguna de Terminos, Los Eucaliptos, Durango, Municipio de Durango, Durango, 34166, Mexico', 'class': 'highway', 'type': 'secondary', 'importance': 0.3}, path=Index(index=8), context=DatumInContext(value=[{'place_id': 132180783, 'licence': 'Data Â© OpenStreetMap contributors, ODbL 1.0. https://osm.org/copyright', 'powered_by': 'Map Maker: https://maps.co', 'osm_type': 'way', 'osm_id': 128914583, 'boundingbox': ['25.650497', '25.6508742', '-100.3111142', '-100.3092118'], 'lat': '25.6505049', 'lon': '-100.3100514', 'display_name': 'Laguna de TÃ©rminos, Arturo B de la Garza, Monterrey, Nuevo LeÃ³n, 64700, Mexico', 'class': 'highway', 'type': 'residential', 'importance': 0.4}, {'place_id': 257940027, 'licence': 'Data Â© OpenStreetMap contributors, ODbL 1.0. https://osm.org/copyright', 'powered_by': 'Map Maker: https://maps.co', 'osm_type': 'way', 'osm_id': 800770558, 'boundingbox': ['25.6506844', '25.650711', '-100.3112724', '-100.3111142'], 'lat': '25.6506844', 'lon': '-100.3111142', 'display_name': 'Laguna de TÃ©rminos, Monterrey, Nuevo LeÃ³n, 64750, Mexico', 'class': 'highway', 'type': 'residential', 'importance': 0.4}, {'place_id': 131383095, 'licence': 'Data Â© OpenStreetMap contributors, ODbL 1.0. https://osm.org/copyright', 'powered_by': 'Map Maker: https://maps.co', 'osm_type': 'way', 'osm_id': 124126856, 'boundingbox': ['25.7224653', '25.7248376', '-100.2466767', '-100.2445865'], 'lat': '25.7234336', 'lon': '-100.2455659', 'display_name': 'Laguna de TÃ©rminos, Costa del Sol 1Â° sec, San NicolÃ¡s de los Garza, Nuevo LeÃ³n, 66490, Mexico', 'class': 'highway', 'type': 'residential', 'importance': 0.4}, {'place_id': 246750190, 'licence': 'Data Â© OpenStreetMap contributors, ODbL 1.0. https://osm.org/copyright', 'powered_by': 'Map Maker: https://maps.co', 'osm_type': 'way', 'osm_id': 733371831, 'boundingbox': ['21.16671', '21.1670877', '-100.9256955', '-100.9256785'], 'lat': '21.16671', 'lon': '-100.9256955', 'display_name': 'Laguna de TÃ©rminos, Guanajuato, Dolores Hidalgo, Dolores Hidalgo Cuna de la Independencia Nacional, Guanajuato, 37803, Mexico', 'class': 'highway', 'type': 'residential', 'importance': 0.4}, {'place_id': 239281451, 'licence': 'Data Â© OpenStreetMap contributors, ODbL 1.0. https://osm.org/copyright', 'powered_by': 'Map Maker: https://maps.co', 'osm_type': 'way', 'osm_id': 689197745, 'boundingbox': ['21.1625369', '21.1645179', '-100.922902', '-100.918707'], 'lat': '21.1636984', 'lon': '-100.920834', 'display_name': 'Laguna de TÃ©rminos, Las Arboledas, Dolores Hidalgo, Dolores Hidalgo Cuna de la Independencia Nacional, Guanajuato, 37803, Mexico', 'class': 'highway', 'type': 'residential', 'importance': 0.4}, {'place_id': 247973946, 'licence': 'Data Â© OpenStreetMap contributors, ODbL 1.0. https://osm.org/copyright', 'powered_by': 'Map Maker: https://maps.co', 'osm_type': 'way', 'osm_id': 733371830, 'boundingbox': ['21.165815', '21.16671', '-100.925699', '-100.9256955'], 'lat': '21.16671', 'lon': '-100.9256955', 'display_name': 'Laguna de TÃ©rminos, Guanajuato, Dolores Hidalgo, Dolores Hidalgo Cuna de la Independencia Nacional, Guanajuato, 37803, Mexico', 'class': 'highway', 'type': 'track', 'importance': 0.4}, {'place_id': 203042553, 'licence': 'Data Â© OpenStreetMap contributors, ODbL 1.0. https://osm.org/copyright', 'powered_by': 'Map Maker: https://maps.co', 'osm_type': 'way', 'osm_id': 455839997, 'boundingbox': ['19.4419543', '19.4447682', '-99.1917602', '-99.171099'], 'lat': '19.4434105', 'lon': '-99.1819631', 'display_name': 'Laguna de TÃ©rminos, Colonia Lago Sur, Miguel Hidalgo, Mexico City, 11320, Mexico', 'class': 'highway', 'type': 'cycleway', 'importance': 0.375}, {'place_id': 60033371, 'licence': 'Data Â© OpenStreetMap contributors, ODbL 1.0. https://osm.org/copyright', 'powered_by': 'Map Maker: https://maps.co', 'osm_type': 'node', 'osm_id': 5362118921, 'boundingbox': ['18.6398082', '18.6399082', '-91.5413272', '-91.5412272'], 'lat': '18.6398582', 'lon': '-91.5412772', 'display_name': 'Laguna de TÃ©rminos, Carmen, Campeche, Mexico', 'class': 'tourism', 'type': 'attraction', 'importance': 0.30100000000000005}, {'place_id': 174184567, 'licence': 'Data Â© OpenStreetMap contributors, ODbL 1.0. https://osm.org/copyright', 'powered_by': 'Map Maker: https://maps.co', 'osm_type': 'way', 'osm_id': 298353851, 'boundingbox': ['24.0615094', '24.0616178', '-104.6320899', '-104.6320181'], 'lat': '24.0615666', 'lon': '-104.632058', 'display_name': 'Laguna de Terminos, Los Eucaliptos, Durango, Municipio de Durango, Durango, 34166, Mexico', 'class': 'highway', 'type': 'secondary', 'importance': 0.3}, {'place_id': 174351147, 'licence': 'Data Â© OpenStreetMap contributors, ODbL 1.0. https://osm.org/copyright', 'powered_by': 'Map Maker: https://maps.co', 'osm_type': 'way', 'osm_id': 298353844, 'boundingbox': ['24.0574567', '24.0613245', '-104.6318733', '-104.6296529'], 'lat': '24.0594784', 'lon': '-104.6308105', 'display_name': 'Laguna de Terminos, Privadas San Ignacio, Durango, Municipio de Durango, Durango, 34166, Mexico', 'class': 'highway', 'type': 'secondary', 'importance': 0.3}], path=Fields('Data'), context=DatumInContext(value={'Data': [{'place_id': 132180783, 'licence': 'Data Â© OpenStreetMap contributors, ODbL 1.0. https://osm.org/copyright', 'powered_by': 'Map Maker: https://maps.co', 'osm_type': 'way', 'osm_id': 128914583, 'boundingbox': ['25.650497', '25.6508742', '-100.3111142', '-100.3092118'], 'lat': '25.6505049', 'lon': '-100.3100514', 'display_name': 'Laguna de TÃ©rminos, Arturo B de la Garza, Monterrey, Nuevo LeÃ³n, 64700, Mexico', 'class': 'highway', 'type': 'residential', 'importance': 0.4}, {'place_id': 257940027, 'licence': 'Data Â© OpenStreetMap contributors, ODbL 1.0. https://osm.org/copyright', 'powered_by': 'Map Maker: https://maps.co', 'osm_type': 'way', 'osm_id': 800770558, 'boundingbox': ['25.6506844', '25.650711', '-100.3112724', '-100.3111142'], 'lat': '25.6506844', 'lon': '-100.3111142', 'display_name': 'Laguna de TÃ©rminos, Monterrey, Nuevo LeÃ³n, 64750, Mexico', 'class': 'highway', 'type': 'residential', 'importance': 0.4}, {'place_id': 131383095, 'licence': 'Data Â© OpenStreetMap contributors, ODbL 1.0. https://osm.org/copyright', 'powered_by': 'Map Maker: https://maps.co', 'osm_type': 'way', 'osm_id': 124126856, 'boundingbox': ['25.7224653', '25.7248376', '-100.2466767', '-100.2445865'], 'lat': '25.7234336', 'lon': '-100.2455659', 'display_name': 'Laguna de TÃ©rminos, Costa del Sol 1Â° sec, San NicolÃ¡s de los Garza, Nuevo LeÃ³n, 66490, Mexico', 'class': 'highway', 'type': 'residential', 'importance': 0.4}, {'place_id': 246750190, 'licence': 'Data Â© OpenStreetMap contributors, ODbL 1.0. https://osm.org/copyright', 'powered_by': 'Map Maker: https://maps.co', 'osm_type': 'way', 'osm_id': 733371831, 'boundingbox': ['21.16671', '21.1670877', '-100.9256955', '-100.9256785'], 'lat': '21.16671', 'lon': '-100.9256955', 'display_name': 'Laguna de TÃ©rminos, Guanajuato, Dolores Hidalgo, Dolores Hidalgo Cuna de la Independencia Nacional, Guanajuato, 37803, Mexico', 'class': 'highway', 'type': 'residential', 'importance': 0.4}, {'place_id': 239281451, 'licence': 'Data Â© OpenStreetMap contributors, ODbL 1.0. https://osm.org/copyright', 'powered_by': 'Map Maker: https://maps.co', 'osm_type': 'way', 'osm_id': 689197745, 'boundingbox': ['21.1625369', '21.1645179', '-100.922902', '-100.918707'], 'lat': '21.1636984', 'lon': '-100.920834', 'display_name': 'Laguna de TÃ©rminos, Las Arboledas, Dolores Hidalgo, Dolores Hidalgo Cuna de la Independencia Nacional, Guanajuato, 37803, Mexico', 'class': 'highway', 'type': 'residential', 'importance': 0.4}, {'place_id': 247973946, 'licence': 'Data Â© OpenStreetMap contributors, ODbL 1.0. https://osm.org/copyright', 'powered_by': 'Map Maker: https://maps.co', 'osm_type': 'way', 'osm_id': 733371830, 'boundingbox': ['21.165815', '21.16671', '-100.925699', '-100.9256955'], 'lat': '21.16671', 'lon': '-100.9256955', 'display_name': 'Laguna de TÃ©rminos, Guanajuato, Dolores Hidalgo, Dolores Hidalgo Cuna de la Independencia Nacional, Guanajuato, 37803, Mexico', 'class': 'highway', 'type': 'track', 'importance': 0.4}, {'place_id': 203042553, 'licence': 'Data Â© OpenStreetMap contributors, ODbL 1.0. https://osm.org/copyright', 'powered_by': 'Map Maker: https://maps.co', 'osm_type': 'way', 'osm_id': 455839997, 'boundingbox': ['19.4419543', '19.4447682', '-99.1917602', '-99.171099'], 'lat': '19.4434105', 'lon': '-99.1819631', 'display_name': 'Laguna de TÃ©rminos, Colonia Lago Sur, Miguel Hidalgo, Mexico City, 11320, Mexico', 'class': 'highway', 'type': 'cycleway', 'importance': 0.375}, {'place_id': 60033371, 'licence': 'Data Â© OpenStreetMap contributors, ODbL 1.0. https://osm.org/copyright', 'powered_by': 'Map Maker: https://maps.co', 'osm_type': 'node', 'osm_id': 5362118921, 'boundingbox': ['18.6398082', '18.6399082', '-91.5413272', '-91.5412272'], 'lat': '18.6398582', 'lon': '-91.5412772', 'display_name': 'Laguna de TÃ©rminos, Carmen, Campeche, Mexico', 'class': 'tourism', 'type': 'attraction', 'importance': 0.30100000000000005}, {'place_id': 174184567, 'licence': 'Data Â© OpenStreetMap contributors, ODbL 1.0. https://osm.org/copyright', 'powered_by': 'Map Maker: https://maps.co', 'osm_type': 'way', 'osm_id': 298353851, 'boundingbox': ['24.0615094', '24.0616178', '-104.6320899', '-104.6320181'], 'lat': '24.0615666', 'lon': '-104.632058', 'display_name': 'Laguna de Terminos, Los Eucaliptos, Durango, Municipio de Durango, Durango, 34166, Mexico', 'class': 'highway', 'type': 'secondary', 'importance': 0.3}, {'place_id': 174351147, 'licence': 'Data Â© OpenStreetMap contributors, ODbL 1.0. https://osm.org/copyright', 'powered_by': 'Map Maker: https://maps.co', 'osm_type': 'way', 'osm_id': 298353844, 'boundingbox': ['24.0574567', '24.0613245', '-104.6318733', '-104.6296529'], 'lat': '24.0594784', 'lon': '-104.6308105', 'display_name': 'Laguna de Terminos, Privadas San Ignacio, Durango, Municipio de Durango, Durango, 34166, Mexico', 'class': 'highway', 'type': 'secondary', 'importance': 0.3}]}, path=Root(), context=None))), DatumInContext(value={'place_id': 174351147, 'licence': 'Data Â© OpenStreetMap contributors, ODbL 1.0. https://osm.org/copyright', 'powered_by': 'Map Maker: https://maps.co', 'osm_type': 'way', 'osm_id': 298353844, 'boundingbox': ['24.0574567', '24.0613245', '-104.6318733', '-104.6296529'], 'lat': '24.0594784', 'lon': '-104.6308105', 'display_name': 'Laguna de Terminos, Privadas San Ignacio, Durango, Municipio de Durango, Durango, 34166, Mexico', 'class': 'highway', 'type': 'secondary', 'importance': 0.3}, path=Index(index=9), context=DatumInContext(value=[{'place_id': 132180783, 'licence': 'Data Â© OpenStreetMap contributors, ODbL 1.0. https://osm.org/copyright', 'powered_by': 'Map Maker: https://maps.co', 'osm_type': 'way', 'osm_id': 128914583, 'boundingbox': ['25.650497', '25.6508742', '-100.3111142', '-100.3092118'], 'lat': '25.6505049', 'lon': '-100.3100514', 'display_name': 'Laguna de TÃ©rminos, Arturo B de la Garza, Monterrey, Nuevo LeÃ³n, 64700, Mexico', 'class': 'highway', 'type': 'residential', 'importance': 0.4}, {'place_id': 257940027, 'licence': 'Data Â© OpenStreetMap contributors, ODbL 1.0. https://osm.org/copyright', 'powered_by': 'Map Maker: https://maps.co', 'osm_type': 'way', 'osm_id': 800770558, 'boundingbox': ['25.6506844', '25.650711', '-100.3112724', '-100.3111142'], 'lat': '25.6506844', 'lon': '-100.3111142', 'display_name': 'Laguna de TÃ©rminos, Monterrey, Nuevo LeÃ³n, 64750, Mexico', 'class': 'highway', 'type': 'residential', 'importance': 0.4}, {'place_id': 131383095, 'licence': 'Data Â© OpenStreetMap contributors, ODbL 1.0. https://osm.org/copyright', 'powered_by': 'Map Maker: https://maps.co', 'osm_type': 'way', 'osm_id': 124126856, 'boundingbox': ['25.7224653', '25.7248376', '-100.2466767', '-100.2445865'], 'lat': '25.7234336', 'lon': '-100.2455659', 'display_name': 'Laguna de TÃ©rminos, Costa del Sol 1Â° sec, San NicolÃ¡s de los Garza, Nuevo LeÃ³n, 66490, Mexico', 'class': 'highway', 'type': 'residential', 'importance': 0.4}, {'place_id': 246750190, 'licence': 'Data Â© OpenStreetMap contributors, ODbL 1.0. https://osm.org/copyright', 'powered_by': 'Map Maker: https://maps.co', 'osm_type': 'way', 'osm_id': 733371831, 'boundingbox': ['21.16671', '21.1670877', '-100.9256955', '-100.9256785'], 'lat': '21.16671', 'lon': '-100.9256955', 'display_name': 'Laguna de TÃ©rminos, Guanajuato, Dolores Hidalgo, Dolores Hidalgo Cuna de la Independencia Nacional, Guanajuato, 37803, Mexico', 'class': 'highway', 'type': 'residential', 'importance': 0.4}, {'place_id': 239281451, 'licence': 'Data Â© OpenStreetMap contributors, ODbL 1.0. https://osm.org/copyright', 'powered_by': 'Map Maker: https://maps.co', 'osm_type': 'way', 'osm_id': 689197745, 'boundingbox': ['21.1625369', '21.1645179', '-100.922902', '-100.918707'], 'lat': '21.1636984', 'lon': '-100.920834', 'display_name': 'Laguna de TÃ©rminos, Las Arboledas, Dolores Hidalgo, Dolores Hidalgo Cuna de la Independencia Nacional, Guanajuato, 37803, Mexico', 'class': 'highway', 'type': 'residential', 'importance': 0.4}, {'place_id': 247973946, 'licence': 'Data Â© OpenStreetMap contributors, ODbL 1.0. https://osm.org/copyright', 'powered_by': 'Map Maker: https://maps.co', 'osm_type': 'way', 'osm_id': 733371830, 'boundingbox': ['21.165815', '21.16671', '-100.925699', '-100.9256955'], 'lat': '21.16671', 'lon': '-100.9256955', 'display_name': 'Laguna de TÃ©rminos, Guanajuato, Dolores Hidalgo, Dolores Hidalgo Cuna de la Independencia Nacional, Guanajuato, 37803, Mexico', 'class': 'highway', 'type': 'track', 'importance': 0.4}, {'place_id': 203042553, 'licence': 'Data Â© OpenStreetMap contributors, ODbL 1.0. https://osm.org/copyright', 'powered_by': 'Map Maker: https://maps.co', 'osm_type': 'way', 'osm_id': 455839997, 'boundingbox': ['19.4419543', '19.4447682', '-99.1917602', '-99.171099'], 'lat': '19.4434105', 'lon': '-99.1819631', 'display_name': 'Laguna de TÃ©rminos, Colonia Lago Sur, Miguel Hidalgo, Mexico City, 11320, Mexico', 'class': 'highway', 'type': 'cycleway', 'importance': 0.375}, {'place_id': 60033371, 'licence': 'Data Â© OpenStreetMap contributors, ODbL 1.0. https://osm.org/copyright', 'powered_by': 'Map Maker: https://maps.co', 'osm_type': 'node', 'osm_id': 5362118921, 'boundingbox': ['18.6398082', '18.6399082', '-91.5413272', '-91.5412272'], 'lat': '18.6398582', 'lon': '-91.5412772', 'display_name': 'Laguna de TÃ©rminos, Carmen, Campeche, Mexico', 'class': 'tourism', 'type': 'attraction', 'importance': 0.30100000000000005}, {'place_id': 174184567, 'licence': 'Data Â© OpenStreetMap contributors, ODbL 1.0. https://osm.org/copyright', 'powered_by': 'Map Maker: https://maps.co', 'osm_type': 'way', 'osm_id': 298353851, 'boundingbox': ['24.0615094', '24.0616178', '-104.6320899', '-104.6320181'], 'lat': '24.0615666', 'lon': '-104.632058', 'display_name': 'Laguna de Terminos, Los Eucaliptos, Durango, Municipio de Durango, Durango, 34166, Mexico', 'class': 'highway', 'type': 'secondary', 'importance': 0.3}, {'place_id': 174351147, 'licence': 'Data Â© OpenStreetMap contributors, ODbL 1.0. https://osm.org/copyright', 'powered_by': 'Map Maker: https://maps.co', 'osm_type': 'way', 'osm_id': 298353844, 'boundingbox': ['24.0574567', '24.0613245', '-104.6318733', '-104.6296529'], 'lat': '24.0594784', 'lon': '-104.6308105', 'display_name': 'Laguna de Terminos, Privadas San Ignacio, Durango, Municipio de Durango, Durango, 34166, Mexico', 'class': 'highway', 'type': 'secondary', 'importance': 0.3}], path=Fields('Data'), context=DatumInContext(value={'Data': [{'place_id': 132180783, 'licence': 'Data Â© OpenStreetMap contributors, ODbL 1.0. https://osm.org/copyright', 'powered_by': 'Map Maker: https://maps.co', 'osm_type': 'way', 'osm_id': 128914583, 'boundingbox': ['25.650497', '25.6508742', '-100.3111142', '-100.3092118'], 'lat': '25.6505049', 'lon': '-100.3100514', 'display_name': 'Laguna de TÃ©rminos, Arturo B de la Garza, Monterrey, Nuevo LeÃ³n, 64700, Mexico', 'class': 'highway', 'type': 'residential', 'importance': 0.4}, {'place_id': 257940027, 'licence': 'Data Â© OpenStreetMap contributors, ODbL 1.0. https://osm.org/copyright', 'powered_by': 'Map Maker: https://maps.co', 'osm_type': 'way', 'osm_id': 800770558, 'boundingbox': ['25.6506844', '25.650711', '-100.3112724', '-100.3111142'], 'lat': '25.6506844', 'lon': '-100.3111142', 'display_name': 'Laguna de TÃ©rminos, Monterrey, Nuevo LeÃ³n, 64750, Mexico', 'class': 'highway', 'type': 'residential', 'importance': 0.4}, {'place_id': 131383095, 'licence': 'Data Â© OpenStreetMap contributors, ODbL 1.0. https://osm.org/copyright', 'powered_by': 'Map Maker: https://maps.co', 'osm_type': 'way', 'osm_id': 124126856, 'boundingbox': ['25.7224653', '25.7248376', '-100.2466767', '-100.2445865'], 'lat': '25.7234336', 'lon': '-100.2455659', 'display_name': 'Laguna de TÃ©rminos, Costa del Sol 1Â° sec, San NicolÃ¡s de los Garza, Nuevo LeÃ³n, 66490, Mexico', 'class': 'highway', 'type': 'residential', 'importance': 0.4}, {'place_id': 246750190, 'licence': 'Data Â© OpenStreetMap contributors, ODbL 1.0. https://osm.org/copyright', 'powered_by': 'Map Maker: https://maps.co', 'osm_type': 'way', 'osm_id': 733371831, 'boundingbox': ['21.16671', '21.1670877', '-100.9256955', '-100.9256785'], 'lat': '21.16671', 'lon': '-100.9256955', 'display_name': 'Laguna de TÃ©rminos, Guanajuato, Dolores Hidalgo, Dolores Hidalgo Cuna de la Independencia Nacional, Guanajuato, 37803, Mexico', 'class': 'highway', 'type': 'residential', 'importance': 0.4}, {'place_id': 239281451, 'licence': 'Data Â© OpenStreetMap contributors, ODbL 1.0. https://osm.org/copyright', 'powered_by': 'Map Maker: https://maps.co', 'osm_type': 'way', 'osm_id': 689197745, 'boundingbox': ['21.1625369', '21.1645179', '-100.922902', '-100.918707'], 'lat': '21.1636984', 'lon': '-100.920834', 'display_name': 'Laguna de TÃ©rminos, Las Arboledas, Dolores Hidalgo, Dolores Hidalgo Cuna de la Independencia Nacional, Guanajuato, 37803, Mexico', 'class': 'highway', 'type': 'residential', 'importance': 0.4}, {'place_id': 247973946, 'licence': 'Data Â© OpenStreetMap contributors, ODbL 1.0. https://osm.org/copyright', 'powered_by': 'Map Maker: https://maps.co', 'osm_type': 'way', 'osm_id': 733371830, 'boundingbox': ['21.165815', '21.16671', '-100.925699', '-100.9256955'], 'lat': '21.16671', 'lon': '-100.9256955', 'display_name': 'Laguna de TÃ©rminos, Guanajuato, Dolores Hidalgo, Dolores Hidalgo Cuna de la Independencia Nacional, Guanajuato, 37803, Mexico', 'class': 'highway', 'type': 'track', 'importance': 0.4}, {'place_id': 203042553, 'licence': 'Data Â© OpenStreetMap contributors, ODbL 1.0. https://osm.org/copyright', 'powered_by': 'Map Maker: https://maps.co', 'osm_type': 'way', 'osm_id': 455839997, 'boundingbox': ['19.4419543', '19.4447682', '-99.1917602', '-99.171099'], 'lat': '19.4434105', 'lon': '-99.1819631', 'display_name': 'Laguna de TÃ©rminos, Colonia Lago Sur, Miguel Hidalgo, Mexico City, 11320, Mexico', 'class': 'highway', 'type': 'cycleway', 'importance': 0.375}, {'place_id': 60033371, 'licence': 'Data Â© OpenStreetMap contributors, ODbL 1.0. https://osm.org/copyright', 'powered_by': 'Map Maker: https://maps.co', 'osm_type': 'node', 'osm_id': 5362118921, 'boundingbox': ['18.6398082', '18.6399082', '-91.5413272', '-91.5412272'], 'lat': '18.6398582', 'lon': '-91.5412772', 'display_name': 'Laguna de TÃ©rminos, Carmen, Campeche, Mexico', 'class': 'tourism', 'type': 'attraction', 'importance': 0.30100000000000005}, {'place_id': 174184567, 'licence': 'Data Â© OpenStreetMap contributors, ODbL 1.0. https://osm.org/copyright', 'powered_by': 'Map Maker: https://maps.co', 'osm_type': 'way', 'osm_id': 298353851, 'boundingbox': ['24.0615094', '24.0616178', '-104.6320899', '-104.6320181'], 'lat': '24.0615666', 'lon': '-104.632058', 'display_name': 'Laguna de Terminos, Los Eucaliptos, Durango, Municipio de Durango, Durango, 34166, Mexico', 'class': 'highway', 'type': 'secondary', 'importance': 0.3}, {'place_id': 174351147, 'licence': 'Data Â© OpenStreetMap contributors, ODbL 1.0. https://osm.org/copyright', 'powered_by': 'Map Maker: https://maps.co', 'osm_type': 'way', 'osm_id': 298353844, 'boundingbox': ['24.0574567', '24.0613245', '-104.6318733', '-104.6296529'], 'lat': '24.0594784', 'lon': '-104.6308105', 'display_name': 'Laguna de Terminos, Privadas San Ignacio, Durango, Municipio de Durango, Durango, 34166, Mexico', 'class': 'highway', 'type': 'secondary', 'importance': 0.3}]}, path=Root(), context=None)))]\n"
     ]
    }
   ],
   "source": [
    "\"\"\"\n",
    "(*) -> Significa TODOS los elementos especificados\n",
    "\"\"\"\n",
    "patron = parse('$.Data[*]')\n",
    "match=patron.find(datos)\n",
    "print(match)\n"
   ]
  },
  {
   "cell_type": "code",
   "execution_count": 8,
   "id": "965187fb",
   "metadata": {},
   "outputs": [
    {
     "name": "stdout",
     "output_type": "stream",
     "text": [
      "25.6505049\n"
     ]
    }
   ],
   "source": [
    "\"\"\"\n",
    "(.) -> El punto significa en avance hacia un hijo o subestructura, de la estructura madre. En el ejemplo el nodo madre es $\n",
    "y bajamos dos niveles hasta legar a LAT.por eso hay dos puntos en patron.\n",
    "\"\"\"\n",
    "patron = parse('$.Data[0].lat')\n",
    "match=patron.find(datos)\n",
    "print(match[0].value)\n"
   ]
  },
  {
   "cell_type": "code",
   "execution_count": 9,
   "id": "a958661f",
   "metadata": {},
   "outputs": [
    {
     "name": "stdout",
     "output_type": "stream",
     "text": [
      "25.6505049\n"
     ]
    }
   ],
   "source": [
    "patron = parse('$..lat') # desde el nodo madre bajamos dos viveles y buscamos los valores correepsondientes a LAT\n",
    "match=patron.find(datos)\n",
    "print(match[0].value)"
   ]
  },
  {
   "cell_type": "code",
   "execution_count": 10,
   "id": "4fdf1850",
   "metadata": {},
   "outputs": [
    {
     "name": "stdout",
     "output_type": "stream",
     "text": [
      "{'place_id': 132180783, 'licence': 'Data Â© OpenStreetMap contributors, ODbL 1.0. https://osm.org/copyright', 'powered_by': 'Map Maker: https://maps.co', 'osm_type': 'way', 'osm_id': 128914583, 'boundingbox': ['25.650497', '25.6508742', '-100.3111142', '-100.3092118'], 'lat': '25.6505049', 'lon': '-100.3100514', 'display_name': 'Laguna de TÃ©rminos, Arturo B de la Garza, Monterrey, Nuevo LeÃ³n, 64700, Mexico', 'class': 'highway', 'type': 'residential', 'importance': 0.4}\n"
     ]
    }
   ],
   "source": [
    "\"\"\"\n",
    "(?) --> Sirve para solictar lo elemnetos que corrsponden a ciero criterio\n",
    "\"\"\"\n",
    "patron = parse('$.Data[?(@.class==\"highway\")]')\n",
    "match=patron.find(datos)\n",
    "print(match[0].value)\n"
   ]
  },
  {
   "cell_type": "code",
   "execution_count": 11,
   "id": "fa5b6a60",
   "metadata": {},
   "outputs": [
    {
     "name": "stdout",
     "output_type": "stream",
     "text": [
      "25.6505049\n"
     ]
    }
   ],
   "source": [
    "\"\"\"\n",
    "[]-> Sirve para señalar el elemento que contiene el nivel. En ele jemplo inciamos el elemento priemro [0] del nivel Data\n",
    "\"\"\"\n",
    "patron = parse('$.Data[0].lat')\n",
    "match=patron.find(datos)\n",
    "print(match[0].value)\n"
   ]
  },
  {
   "cell_type": "markdown",
   "id": "18839fa9",
   "metadata": {},
   "source": [
    "## Rangos de seleccion"
   ]
  },
  {
   "cell_type": "code",
   "execution_count": 12,
   "id": "4baf0269",
   "metadata": {},
   "outputs": [
    {
     "name": "stdout",
     "output_type": "stream",
     "text": [
      "2\n"
     ]
    }
   ],
   "source": [
    "\"\"\"\n",
    "[1:3] -> Escogera los elemntos del primeroy y segundo (el tercero queda excluido)\n",
    "\"\"\"\n",
    "patron = parse('$.Data[1:3]')\n",
    "match=patron.find(datos)\n",
    "print(len(match))"
   ]
  },
  {
   "cell_type": "code",
   "execution_count": 13,
   "id": "a7c25572",
   "metadata": {},
   "outputs": [
    {
     "name": "stdout",
     "output_type": "stream",
     "text": [
      "5\n"
     ]
    }
   ],
   "source": [
    "\"\"\"\n",
    "[:5] -> Selecciona los primero 5 elemntos es decir del 0 al 4to\n",
    "\"\"\"\n",
    "\n",
    "patron = parse('$.Data[:5]')\n",
    "match=patron.find(datos)\n",
    "print(len(match))"
   ]
  },
  {
   "cell_type": "code",
   "execution_count": 14,
   "id": "e9667265",
   "metadata": {},
   "outputs": [
    {
     "name": "stdout",
     "output_type": "stream",
     "text": [
      "9\n"
     ]
    }
   ],
   "source": [
    "\"\"\"\n",
    "[:-1] -> Selecciona todos haste el penltimo\n",
    "\"\"\"\n",
    "\n",
    "patron = parse('$.Data[:-1]')\n",
    "match=patron.find(datos)\n",
    "print(len(match))"
   ]
  },
  {
   "cell_type": "code",
   "execution_count": 15,
   "id": "db1b33ad",
   "metadata": {},
   "outputs": [
    {
     "name": "stdout",
     "output_type": "stream",
     "text": [
      "1\n"
     ]
    }
   ],
   "source": [
    "\"\"\"\n",
    "[-1:] -> Selecciona el ultimo\n",
    "\"\"\"\n",
    "\n",
    "patron = parse('$.Data[-1:]')\n",
    "match=patron.find(datos)\n",
    "print(len(match))"
   ]
  },
  {
   "cell_type": "code",
   "execution_count": 16,
   "id": "dcd5151a",
   "metadata": {},
   "outputs": [
    {
     "name": "stdout",
     "output_type": "stream",
     "text": [
      "2\n"
     ]
    }
   ],
   "source": [
    "\"\"\"\n",
    "[-2:] -> Selecciona los dos ultimos\n",
    "\"\"\"\n",
    "\n",
    "patron = parse('$.Data[-2:]')\n",
    "match=patron.find(datos)\n",
    "print(len(match))"
   ]
  },
  {
   "cell_type": "code",
   "execution_count": 17,
   "id": "a32d03cf",
   "metadata": {},
   "outputs": [
    {
     "name": "stdout",
     "output_type": "stream",
     "text": [
      "1\n"
     ]
    }
   ],
   "source": [
    "\"\"\"\n",
    "[5] -> Selecciona solo el elemnto en la quinta posicion\n",
    "\"\"\"\n",
    "\n",
    "patron = parse('$.Data[5]')\n",
    "match=patron.find(datos)\n",
    "print(len(match))"
   ]
  },
  {
   "cell_type": "code",
   "execution_count": 18,
   "id": "5c266dfa",
   "metadata": {},
   "outputs": [
    {
     "name": "stdout",
     "output_type": "stream",
     "text": [
      "1\n"
     ]
    }
   ],
   "source": [
    "\"\"\"\n",
    "[2,5,8] -> Selecciona solo los elemntos en la posicion segunda quinta y octava\n",
    "\"\"\"\n",
    "\n",
    "patron = parse('$.Data[5]')\n",
    "match=patron.find(datos)\n",
    "print(len(match))"
   ]
  },
  {
   "cell_type": "code",
   "execution_count": null,
   "id": "11b96ffd",
   "metadata": {},
   "outputs": [],
   "source": []
  },
  {
   "cell_type": "markdown",
   "id": "e400183d",
   "metadata": {},
   "source": [
    "## FILTROS"
   ]
  },
  {
   "cell_type": "code",
   "execution_count": 19,
   "id": "c3121f92",
   "metadata": {},
   "outputs": [
    {
     "name": "stdout",
     "output_type": "stream",
     "text": [
      "18.6398582\n"
     ]
    }
   ],
   "source": [
    "\"\"\" \n",
    "Filtro con (@) -> Sirve para especificar cliterios de cumplimineto, como filtros por ej:donde se cumpla....\n",
    "\"\"\"\n",
    "patron = parse('$.Data[?(@.class==\"tourism\")].lat')\n",
    "match=patron.find(datos)\n",
    "print(match[0].value)"
   ]
  },
  {
   "cell_type": "code",
   "execution_count": 20,
   "id": "41637cdb",
   "metadata": {},
   "outputs": [
    {
     "name": "stdout",
     "output_type": "stream",
     "text": [
      "24.0615666\n"
     ]
    }
   ],
   "source": [
    "\"\"\"\n",
    "Flitro doble con & que significa \"Y\"\n",
    "\"\"\"\n",
    "patron = parse('$.Data[?(@.class==\"highway\"&@.type==\"secondary\")].lat')\n",
    "match=patron.find(datos)\n",
    "print(match[0].value)\n"
   ]
  },
  {
   "cell_type": "code",
   "execution_count": 37,
   "id": "790f9de9",
   "metadata": {},
   "outputs": [
    {
     "data": {
      "text/plain": [
       "'\\nFlitro doble con || que significa el uno o \"O\" el otro ñpor ejemplo: [?(@.category==\\'fiction\\' || @.price < 10)]\\n'"
      ]
     },
     "execution_count": 37,
     "metadata": {},
     "output_type": "execute_result"
    }
   ],
   "source": [
    "\"\"\"\n",
    "Flitro doble con || que significa el uno o \"O\" el otro ñpor ejemplo: [?(@.category=='fiction' || @.price < 10)]\n",
    "\"\"\"\n",
    "#patron = parse('$.Data[?(@.type==\"secondary\" || @.type==\"cycleway\")]')\n",
    "# match=patron.find(datos)\n",
    "# print(match[0].value)"
   ]
  },
  {
   "cell_type": "code",
   "execution_count": 38,
   "id": "4fbacde2",
   "metadata": {},
   "outputs": [
    {
     "data": {
      "text/plain": [
       "'\\nFlitro doble con || que significa el uno o \"O\" el otro ñpor ejemplo: [?(@.category==\\'fiction\\' || @.price < 10)]\\n'"
      ]
     },
     "execution_count": 38,
     "metadata": {},
     "output_type": "execute_result"
    }
   ],
   "source": [
    "\"\"\"\n",
    "Flitro doble con || que significa el uno o \"O\" el otro ñpor ejemplo: [?(@.category=='fiction' || @.price < 10)]\n",
    "\"\"\"\n",
    "# patron = parse('$.Data[?(@.class==\"highway\" || @.class==\"tourism\")]')\n",
    "# match=patron.find(datos)\n",
    "# print(match[0].value)\n",
    "\n"
   ]
  },
  {
   "cell_type": "code",
   "execution_count": 39,
   "id": "b07bb3b7",
   "metadata": {},
   "outputs": [
    {
     "data": {
      "text/plain": [
       "\"\\nin --> [?(@.size in ['M', 'L'])]\\n\""
      ]
     },
     "execution_count": 39,
     "metadata": {},
     "output_type": "execute_result"
    }
   ],
   "source": [
    "\"\"\"\n",
    "in --> [?(@.size in ['M', 'L'])]\n",
    "\"\"\"\n",
    "\n",
    "# patron = parse('$.Data[?(@.class in [\"highway\",\"tourism\"])]')\n",
    "# match=patron.find(datos)\n",
    "# print(match[0].value)"
   ]
  },
  {
   "cell_type": "code",
   "execution_count": null,
   "id": "29fc6360",
   "metadata": {},
   "outputs": [],
   "source": []
  }
 ],
 "metadata": {
  "kernelspec": {
   "display_name": "Python 3 (ipykernel)",
   "language": "python",
   "name": "python3"
  },
  "language_info": {
   "codemirror_mode": {
    "name": "ipython",
    "version": 3
   },
   "file_extension": ".py",
   "mimetype": "text/x-python",
   "name": "python",
   "nbconvert_exporter": "python",
   "pygments_lexer": "ipython3",
   "version": "3.11.5"
  }
 },
 "nbformat": 4,
 "nbformat_minor": 5
}
